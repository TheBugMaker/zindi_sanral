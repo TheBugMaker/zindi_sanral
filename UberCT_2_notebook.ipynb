{
  "nbformat": 4,
  "nbformat_minor": 0,
  "metadata": {
    "colab": {
      "name": "UberCT Part 2 companion notebook",
      "provenance": [],
      "collapsed_sections": [],
      "toc_visible": true,
      "machine_shape": "hm",
      "include_colab_link": true
    },
    "kernelspec": {
      "name": "python3",
      "display_name": "Python 3"
    },
    "accelerator": "GPU"
  },
  "cells": [
    {
      "cell_type": "markdown",
      "metadata": {
        "id": "view-in-github",
        "colab_type": "text"
      },
      "source": [
        "<a href=\"https://colab.research.google.com/github/TheBugMaker/zindi_sanral/blob/master/UberCT_2_notebook.ipynb\" target=\"_parent\"><img src=\"https://colab.research.google.com/assets/colab-badge.svg\" alt=\"Open In Colab\"/></a>"
      ]
    },
    {
      "cell_type": "markdown",
      "metadata": {
        "id": "QRB2VJf_FbDu",
        "colab_type": "text"
      },
      "source": [
        "# Part 2: Stepping up our game 2\n",
        "\n",
        "This notebook is designed to accompany this blog post https://datasciencecastnet.home.blog/2019/10/21/zindi-uberct-part-2-stepping-up/.\n",
        "\n",
        "It will take you through adding some extra features, creating a deep learning model with fastai and making a submission."
      ]
    },
    {
      "cell_type": "markdown",
      "metadata": {
        "id": "4Dk1QqRQ9vaF",
        "colab_type": "text"
      },
      "source": [
        "# Load data"
      ]
    },
    {
      "cell_type": "markdown",
      "metadata": {
        "id": "q1A0QCjeFwys",
        "colab_type": "text"
      },
      "source": [
        "Upload the train.csv and road_segments.zip files from Zindi, as well as the weather.csv file described in the blog post (or available for download here ADD LINK)"
      ]
    },
    {
      "cell_type": "code",
      "metadata": {
        "id": "1sSLFIJk9xLA",
        "colab_type": "code",
        "colab": {}
      },
      "source": [
        "import pandas as pd\n",
        "import numpy as np\n",
        "from matplotlib import pyplot as plt"
      ],
      "execution_count": 0,
      "outputs": []
    },
    {
      "cell_type": "code",
      "metadata": {
        "id": "jMzywTjbXnmE",
        "colab_type": "code",
        "colab": {}
      },
      "source": [
        "from sklearn.metrics import log_loss, f1_score\n"
      ],
      "execution_count": 0,
      "outputs": []
    },
    {
      "cell_type": "code",
      "metadata": {
        "id": "cnNxjzmoULSB",
        "colab_type": "code",
        "colab": {
          "base_uri": "https://localhost:8080/",
          "height": 215
        },
        "outputId": "fc764fb7-768c-45b2-c7ea-e68ed0a41ba8"
      },
      "source": [
        "!wget http://ghassenochi.com:8000/train.csv"
      ],
      "execution_count": 4,
      "outputs": [
        {
          "output_type": "stream",
          "text": [
            "--2020-01-22 09:11:44--  http://ghassenochi.com:8000/train.csv\n",
            "Resolving ghassenochi.com (ghassenochi.com)... 51.83.99.92\n",
            "Connecting to ghassenochi.com (ghassenochi.com)|51.83.99.92|:8000... connected.\n",
            "HTTP request sent, awaiting response... 200 OK\n",
            "Length: 6079712 (5.8M) [text/csv]\n",
            "Saving to: ‘train.csv.1’\n",
            "\n",
            "train.csv.1         100%[===================>]   5.80M  2.35MB/s    in 2.5s    \n",
            "\n",
            "2020-01-22 09:11:47 (2.35 MB/s) - ‘train.csv.1’ saved [6079712/6079712]\n",
            "\n"
          ],
          "name": "stdout"
        }
      ]
    },
    {
      "cell_type": "code",
      "metadata": {
        "id": "dqNB_1jbUZRV",
        "colab_type": "code",
        "colab": {
          "base_uri": "https://localhost:8080/",
          "height": 215
        },
        "outputId": "84451d2f-870a-4094-d3a0-fecc63df20f0"
      },
      "source": [
        "!wget http://ghassenochi.com:8000/weather.csv"
      ],
      "execution_count": 5,
      "outputs": [
        {
          "output_type": "stream",
          "text": [
            "--2020-01-22 09:11:53--  http://ghassenochi.com:8000/weather.csv\n",
            "Resolving ghassenochi.com (ghassenochi.com)... 51.83.99.92\n",
            "Connecting to ghassenochi.com (ghassenochi.com)|51.83.99.92|:8000... connected.\n",
            "HTTP request sent, awaiting response... 200 OK\n",
            "Length: 4574929 (4.4M) [text/csv]\n",
            "Saving to: ‘weather.csv.1’\n",
            "\n",
            "\rweather.csv.1         0%[                    ]       0  --.-KB/s               \rweather.csv.1         0%[                    ]  20.73K  81.3KB/s               \rweather.csv.1         1%[                    ]  49.01K  96.0KB/s               \rweather.csv.1         2%[                    ] 105.41K   138KB/s               \rweather.csv.1         4%[                    ] 218.54K   214KB/s               \rweather.csv.1         9%[>                   ] 444.79K   348KB/s               \rweather.csv.1        19%[==>                 ] 893.53K   583KB/s               \rweather.csv.1        40%[=======>            ]   1.76M  1008KB/s               \rweather.csv.1        72%[=============>      ]   3.16M  1.47MB/s               \rweather.csv.1       100%[===================>]   4.36M  2.01MB/s    in 2.2s    \n",
            "\n",
            "2020-01-22 09:11:56 (2.01 MB/s) - ‘weather.csv.1’ saved [4574929/4574929]\n",
            "\n"
          ],
          "name": "stdout"
        }
      ]
    },
    {
      "cell_type": "code",
      "metadata": {
        "id": "g2uk6MLZV9VP",
        "colab_type": "code",
        "colab": {
          "base_uri": "https://localhost:8080/",
          "height": 215
        },
        "outputId": "03dda196-097b-4ba4-8863-12df24d808bb"
      },
      "source": [
        "!wget http://ghassenochi.com:8000/road_segments.zip"
      ],
      "execution_count": 6,
      "outputs": [
        {
          "output_type": "stream",
          "text": [
            "--2020-01-22 09:12:01--  http://ghassenochi.com:8000/road_segments.zip\n",
            "Resolving ghassenochi.com (ghassenochi.com)... 51.83.99.92\n",
            "Connecting to ghassenochi.com (ghassenochi.com)|51.83.99.92|:8000... connected.\n",
            "HTTP request sent, awaiting response... 200 OK\n",
            "Length: 309251 (302K) [application/zip]\n",
            "Saving to: ‘road_segments.zip.1’\n",
            "\n",
            "\rroad_segments.zip.1   0%[                    ]       0  --.-KB/s               \rroad_segments.zip.1   6%[>                   ]  20.73K  80.5KB/s               \rroad_segments.zip.1  16%[==>                 ]  49.01K  95.0KB/s               \rroad_segments.zip.1  34%[=====>              ] 105.41K   136KB/s               \rroad_segments.zip.1  72%[=============>      ] 218.54K   212KB/s               \rroad_segments.zip.1 100%[===================>] 302.00K   292KB/s    in 1.0s    \n",
            "\n",
            "2020-01-22 09:12:03 (292 KB/s) - ‘road_segments.zip.1’ saved [309251/309251]\n",
            "\n"
          ],
          "name": "stdout"
        }
      ]
    },
    {
      "cell_type": "code",
      "metadata": {
        "id": "NOYTLTQa9z6A",
        "colab_type": "code",
        "outputId": "76476a60-92c9-4134-9c7d-7e0fd57c44b3",
        "colab": {
          "base_uri": "https://localhost:8080/",
          "height": 204
        }
      },
      "source": [
        "data = pd.read_csv('train.csv', \n",
        "                   parse_dates = ['Occurrence Local Date Time'])\n",
        "data.head()"
      ],
      "execution_count": 6,
      "outputs": [
        {
          "output_type": "execute_result",
          "data": {
            "text/html": [
              "<div>\n",
              "<style scoped>\n",
              "    .dataframe tbody tr th:only-of-type {\n",
              "        vertical-align: middle;\n",
              "    }\n",
              "\n",
              "    .dataframe tbody tr th {\n",
              "        vertical-align: top;\n",
              "    }\n",
              "\n",
              "    .dataframe thead th {\n",
              "        text-align: right;\n",
              "    }\n",
              "</style>\n",
              "<table border=\"1\" class=\"dataframe\">\n",
              "  <thead>\n",
              "    <tr style=\"text-align: right;\">\n",
              "      <th></th>\n",
              "      <th>EventId</th>\n",
              "      <th>Occurrence Local Date Time</th>\n",
              "      <th>Reporting Agency</th>\n",
              "      <th>Cause</th>\n",
              "      <th>Subcause</th>\n",
              "      <th>Status</th>\n",
              "      <th>longitude</th>\n",
              "      <th>latitude</th>\n",
              "      <th>road_segment_id</th>\n",
              "    </tr>\n",
              "  </thead>\n",
              "  <tbody>\n",
              "    <tr>\n",
              "      <th>0</th>\n",
              "      <td>60558</td>\n",
              "      <td>2016-01-01 00:53:00</td>\n",
              "      <td>Cam</td>\n",
              "      <td>Stationary Vehicle</td>\n",
              "      <td>Vehicle On Shoulder</td>\n",
              "      <td>Closed</td>\n",
              "      <td>18.5408955032</td>\n",
              "      <td>-33.888275</td>\n",
              "      <td>S0B3CGQ</td>\n",
              "    </tr>\n",
              "    <tr>\n",
              "      <th>1</th>\n",
              "      <td>60559</td>\n",
              "      <td>2016-01-01 00:54:00</td>\n",
              "      <td>CAMERA</td>\n",
              "      <td>Accident</td>\n",
              "      <td>With A Fixed Object</td>\n",
              "      <td>Closed</td>\n",
              "      <td>18.9307563219</td>\n",
              "      <td>-34.140857</td>\n",
              "      <td>RYJYAPI</td>\n",
              "    </tr>\n",
              "    <tr>\n",
              "      <th>2</th>\n",
              "      <td>60560</td>\n",
              "      <td>2016-01-01 02:26:00</td>\n",
              "      <td>Law Enforcement</td>\n",
              "      <td>Accident</td>\n",
              "      <td>Multi Vehicle</td>\n",
              "      <td>Closed</td>\n",
              "      <td>18.5533575029</td>\n",
              "      <td>-33.959154</td>\n",
              "      <td>U3KP57C</td>\n",
              "    </tr>\n",
              "    <tr>\n",
              "      <th>3</th>\n",
              "      <td>60561</td>\n",
              "      <td>2016-01-01 02:56:00</td>\n",
              "      <td>CAMERA</td>\n",
              "      <td>Stationary Vehicle</td>\n",
              "      <td>Vehicle On Shoulder</td>\n",
              "      <td>Closed</td>\n",
              "      <td>18.6775561589</td>\n",
              "      <td>-33.895258</td>\n",
              "      <td>RY0TRQ8</td>\n",
              "    </tr>\n",
              "    <tr>\n",
              "      <th>4</th>\n",
              "      <td>60562</td>\n",
              "      <td>2016-01-01 03:40:00</td>\n",
              "      <td>CAMERA</td>\n",
              "      <td>Accident</td>\n",
              "      <td>Multi Vehicle</td>\n",
              "      <td>Closed</td>\n",
              "      <td>18.8371319682</td>\n",
              "      <td>-34.087051</td>\n",
              "      <td>8LOVJZ3</td>\n",
              "    </tr>\n",
              "  </tbody>\n",
              "</table>\n",
              "</div>"
            ],
            "text/plain": [
              "   EventId Occurrence Local Date Time  ...   latitude road_segment_id\n",
              "0    60558        2016-01-01 00:53:00  ... -33.888275         S0B3CGQ\n",
              "1    60559        2016-01-01 00:54:00  ... -34.140857         RYJYAPI\n",
              "2    60560        2016-01-01 02:26:00  ... -33.959154         U3KP57C\n",
              "3    60561        2016-01-01 02:56:00  ... -33.895258         RY0TRQ8\n",
              "4    60562        2016-01-01 03:40:00  ... -34.087051         8LOVJZ3\n",
              "\n",
              "[5 rows x 9 columns]"
            ]
          },
          "metadata": {
            "tags": []
          },
          "execution_count": 6
        }
      ]
    },
    {
      "cell_type": "code",
      "metadata": {
        "id": "iWqO40SNQwLT",
        "colab_type": "code",
        "outputId": "6a9845d7-dba2-4c3c-c85e-46beaff8a7cd",
        "colab": {
          "base_uri": "https://localhost:8080/",
          "height": 204
        }
      },
      "source": [
        "data.tail()"
      ],
      "execution_count": 8,
      "outputs": [
        {
          "output_type": "execute_result",
          "data": {
            "text/html": [
              "<div>\n",
              "<style scoped>\n",
              "    .dataframe tbody tr th:only-of-type {\n",
              "        vertical-align: middle;\n",
              "    }\n",
              "\n",
              "    .dataframe tbody tr th {\n",
              "        vertical-align: top;\n",
              "    }\n",
              "\n",
              "    .dataframe thead th {\n",
              "        text-align: right;\n",
              "    }\n",
              "</style>\n",
              "<table border=\"1\" class=\"dataframe\">\n",
              "  <thead>\n",
              "    <tr style=\"text-align: right;\">\n",
              "      <th></th>\n",
              "      <th>EventId</th>\n",
              "      <th>Occurrence Local Date Time</th>\n",
              "      <th>Reporting Agency</th>\n",
              "      <th>Cause</th>\n",
              "      <th>Subcause</th>\n",
              "      <th>Status</th>\n",
              "      <th>longitude</th>\n",
              "      <th>latitude</th>\n",
              "      <th>road_segment_id</th>\n",
              "    </tr>\n",
              "  </thead>\n",
              "  <tbody>\n",
              "    <tr>\n",
              "      <th>53840</th>\n",
              "      <td>152136</td>\n",
              "      <td>2018-12-31 21:14:00</td>\n",
              "      <td>Camera</td>\n",
              "      <td>Stationary Vehicle</td>\n",
              "      <td>Shoulder Lane</td>\n",
              "      <td>Closed</td>\n",
              "      <td>18.601735312</td>\n",
              "      <td>-33.989120</td>\n",
              "      <td>CZBWW0Z</td>\n",
              "    </tr>\n",
              "    <tr>\n",
              "      <th>53841</th>\n",
              "      <td>152139</td>\n",
              "      <td>2018-12-31 21:33:00</td>\n",
              "      <td>Camera</td>\n",
              "      <td>Stationary Vehicle</td>\n",
              "      <td>Shoulder Lane</td>\n",
              "      <td>Closed</td>\n",
              "      <td>18.5765946661</td>\n",
              "      <td>-33.970978</td>\n",
              "      <td>7AKUBY4</td>\n",
              "    </tr>\n",
              "    <tr>\n",
              "      <th>53842</th>\n",
              "      <td>152142</td>\n",
              "      <td>2018-12-31 22:01:00</td>\n",
              "      <td>SAPS</td>\n",
              "      <td>Police and Military</td>\n",
              "      <td>Hijacking</td>\n",
              "      <td>Closed</td>\n",
              "      <td>18.6585756463</td>\n",
              "      <td>-33.949194</td>\n",
              "      <td>YQCBO2Y</td>\n",
              "    </tr>\n",
              "    <tr>\n",
              "      <th>53843</th>\n",
              "      <td>152143</td>\n",
              "      <td>2018-12-31 22:12:00</td>\n",
              "      <td>Camera</td>\n",
              "      <td>Stationary Vehicle</td>\n",
              "      <td>Shoulder Lane</td>\n",
              "      <td>Closed</td>\n",
              "      <td>18.6250798029</td>\n",
              "      <td>-33.888283</td>\n",
              "      <td>Z2OSI9E</td>\n",
              "    </tr>\n",
              "    <tr>\n",
              "      <th>53844</th>\n",
              "      <td>152149</td>\n",
              "      <td>2018-12-31 23:45:00</td>\n",
              "      <td>SAPS</td>\n",
              "      <td>Stationary Vehicle</td>\n",
              "      <td>Shoulder Lane</td>\n",
              "      <td>Closed</td>\n",
              "      <td>18.6529483529</td>\n",
              "      <td>-33.976858</td>\n",
              "      <td>GFX7S4B</td>\n",
              "    </tr>\n",
              "  </tbody>\n",
              "</table>\n",
              "</div>"
            ],
            "text/plain": [
              "       EventId Occurrence Local Date Time  ...   latitude road_segment_id\n",
              "53840   152136        2018-12-31 21:14:00  ... -33.989120         CZBWW0Z\n",
              "53841   152139        2018-12-31 21:33:00  ... -33.970978         7AKUBY4\n",
              "53842   152142        2018-12-31 22:01:00  ... -33.949194         YQCBO2Y\n",
              "53843   152143        2018-12-31 22:12:00  ... -33.888283         Z2OSI9E\n",
              "53844   152149        2018-12-31 23:45:00  ... -33.976858         GFX7S4B\n",
              "\n",
              "[5 rows x 9 columns]"
            ]
          },
          "metadata": {
            "tags": []
          },
          "execution_count": 8
        }
      ]
    },
    {
      "cell_type": "markdown",
      "metadata": {
        "id": "xDEwhcfaPPck",
        "colab_type": "text"
      },
      "source": [
        "I'm splitting it up into train and test sets for local testing. When ready, re-do the steps training with all data and make predictions for the dates covered by Zindi's sample submission."
      ]
    },
    {
      "cell_type": "code",
      "metadata": {
        "id": "92KuU4co911M",
        "colab_type": "code",
        "colab": {}
      },
      "source": [
        "# Train on 2017\n",
        "data = data[data[\"longitude\"] != \"Closed\"]\n",
        "data[\"longitude\"] = pd.to_numeric(data[\"longitude\"])\n",
        "train = data"
      ],
      "execution_count": 0,
      "outputs": []
    },
    {
      "cell_type": "code",
      "metadata": {
        "id": "c0ZVezhP96BA",
        "colab_type": "code",
        "outputId": "2637af67-9c74-44ee-eb18-38b3e619fd1e",
        "colab": {
          "base_uri": "https://localhost:8080/",
          "height": 423
        }
      },
      "source": [
        "# Create a dataframe with a column for each segment_id (sid)\n",
        "# Each row represents an hour.\n",
        "\n",
        "sids = data['road_segment_id'].unique()\n",
        "\n",
        "## <<<<<<<<<<<<<<<<<<<< Added dates, excluding missing data\n",
        "p1 = pd.date_range('2016-01-01',\n",
        "                    '2016-07-01',\n",
        "                    freq=\"1h\")\n",
        "p2 = pd.date_range('2016-09-01',\n",
        "                    '2018-12-31',\n",
        "                    freq=\"1h\")\n",
        "dts = p1.union(p2)\n",
        "\n",
        "tr = pd.DataFrame({'datetime':dts})\n",
        "\n",
        "for sid in sids:\n",
        "    tr[str(sid)] = 0\n",
        "    events = train.loc[train['road_segment_id'] == sid]\n",
        "    dts = events['Occurrence Local Date Time'].dt.round('H')\n",
        "    dates = dts.astype(str).unique()\n",
        "    tr.loc[tr['datetime'].isin(dates), sid] = 1\n",
        "tr.head()"
      ],
      "execution_count": 8,
      "outputs": [
        {
          "output_type": "execute_result",
          "data": {
            "text/html": [
              "<div>\n",
              "<style scoped>\n",
              "    .dataframe tbody tr th:only-of-type {\n",
              "        vertical-align: middle;\n",
              "    }\n",
              "\n",
              "    .dataframe tbody tr th {\n",
              "        vertical-align: top;\n",
              "    }\n",
              "\n",
              "    .dataframe thead th {\n",
              "        text-align: right;\n",
              "    }\n",
              "</style>\n",
              "<table border=\"1\" class=\"dataframe\">\n",
              "  <thead>\n",
              "    <tr style=\"text-align: right;\">\n",
              "      <th></th>\n",
              "      <th>datetime</th>\n",
              "      <th>S0B3CGQ</th>\n",
              "      <th>RYJYAPI</th>\n",
              "      <th>U3KP57C</th>\n",
              "      <th>RY0TRQ8</th>\n",
              "      <th>8LOVJZ3</th>\n",
              "      <th>X4UA382</th>\n",
              "      <th>0QR8FDW</th>\n",
              "      <th>DZABHQW</th>\n",
              "      <th>EKZN1VM</th>\n",
              "      <th>H9XYX9Q</th>\n",
              "      <th>03RHJ3G</th>\n",
              "      <th>FTX7LB8</th>\n",
              "      <th>Q03FQ74</th>\n",
              "      <th>5AC6YRF</th>\n",
              "      <th>1RWEBRU</th>\n",
              "      <th>DCB3LQM</th>\n",
              "      <th>HN83F3L</th>\n",
              "      <th>SPPGKO2</th>\n",
              "      <th>C1ERJ22</th>\n",
              "      <th>AJRKP0C</th>\n",
              "      <th>UUZT4OE</th>\n",
              "      <th>WAC029P</th>\n",
              "      <th>JT4HGZ2</th>\n",
              "      <th>8Z5P9T1</th>\n",
              "      <th>UAXX1ZE</th>\n",
              "      <th>74A6FL0</th>\n",
              "      <th>2M1UBKJ</th>\n",
              "      <th>E5D3KEB</th>\n",
              "      <th>NQSL7FX</th>\n",
              "      <th>S200A1J</th>\n",
              "      <th>ETFFDX5</th>\n",
              "      <th>R6JUSZT</th>\n",
              "      <th>EDXK0HP</th>\n",
              "      <th>N5NO82G</th>\n",
              "      <th>5DHNI4S</th>\n",
              "      <th>VUYACXV</th>\n",
              "      <th>VMCY8BI</th>\n",
              "      <th>927BHUF</th>\n",
              "      <th>3MW0MN9</th>\n",
              "      <th>...</th>\n",
              "      <th>J8FAZRB</th>\n",
              "      <th>P66KAPS</th>\n",
              "      <th>CJJI1XY</th>\n",
              "      <th>K3N8ADC</th>\n",
              "      <th>SG89YSS</th>\n",
              "      <th>XYFQJ1Q</th>\n",
              "      <th>QTT8QNT</th>\n",
              "      <th>LC8FONX</th>\n",
              "      <th>WJXP54Z</th>\n",
              "      <th>GVQD9D6</th>\n",
              "      <th>64QSPWU</th>\n",
              "      <th>LRCHHQJ</th>\n",
              "      <th>Q2HCM1O</th>\n",
              "      <th>F055OA5</th>\n",
              "      <th>SY568EU</th>\n",
              "      <th>QBSA1OR</th>\n",
              "      <th>8YJIRQ2</th>\n",
              "      <th>KVOVDD8</th>\n",
              "      <th>H983665</th>\n",
              "      <th>7T2W8WU</th>\n",
              "      <th>4NSOFJG</th>\n",
              "      <th>4UAL23D</th>\n",
              "      <th>956JU5F</th>\n",
              "      <th>B8NRA4K</th>\n",
              "      <th>PH8DIYU</th>\n",
              "      <th>F47NAGJ</th>\n",
              "      <th>1NG8I9K</th>\n",
              "      <th>ZP9STNM</th>\n",
              "      <th>D3349RH</th>\n",
              "      <th>E4L0I98</th>\n",
              "      <th>YVR8GT6</th>\n",
              "      <th>ZAVM3PJ</th>\n",
              "      <th>DS4NLQE</th>\n",
              "      <th>HR19LL7</th>\n",
              "      <th>1451FOG</th>\n",
              "      <th>2ON8NSO</th>\n",
              "      <th>NFUEAN5</th>\n",
              "      <th>4T821GV</th>\n",
              "      <th>J6A19TW</th>\n",
              "      <th>43RCYZH</th>\n",
              "    </tr>\n",
              "  </thead>\n",
              "  <tbody>\n",
              "    <tr>\n",
              "      <th>0</th>\n",
              "      <td>2016-01-01 00:00:00</td>\n",
              "      <td>0</td>\n",
              "      <td>0</td>\n",
              "      <td>0</td>\n",
              "      <td>0</td>\n",
              "      <td>0</td>\n",
              "      <td>0</td>\n",
              "      <td>0</td>\n",
              "      <td>0</td>\n",
              "      <td>0</td>\n",
              "      <td>0</td>\n",
              "      <td>0</td>\n",
              "      <td>0</td>\n",
              "      <td>0</td>\n",
              "      <td>0</td>\n",
              "      <td>0</td>\n",
              "      <td>0</td>\n",
              "      <td>0</td>\n",
              "      <td>0</td>\n",
              "      <td>0</td>\n",
              "      <td>0</td>\n",
              "      <td>0</td>\n",
              "      <td>0</td>\n",
              "      <td>0</td>\n",
              "      <td>0</td>\n",
              "      <td>0</td>\n",
              "      <td>0</td>\n",
              "      <td>0</td>\n",
              "      <td>0</td>\n",
              "      <td>0</td>\n",
              "      <td>0</td>\n",
              "      <td>0</td>\n",
              "      <td>0</td>\n",
              "      <td>0</td>\n",
              "      <td>0</td>\n",
              "      <td>0</td>\n",
              "      <td>0</td>\n",
              "      <td>0</td>\n",
              "      <td>0</td>\n",
              "      <td>0</td>\n",
              "      <td>...</td>\n",
              "      <td>0</td>\n",
              "      <td>0</td>\n",
              "      <td>0</td>\n",
              "      <td>0</td>\n",
              "      <td>0</td>\n",
              "      <td>0</td>\n",
              "      <td>0</td>\n",
              "      <td>0</td>\n",
              "      <td>0</td>\n",
              "      <td>0</td>\n",
              "      <td>0</td>\n",
              "      <td>0</td>\n",
              "      <td>0</td>\n",
              "      <td>0</td>\n",
              "      <td>0</td>\n",
              "      <td>0</td>\n",
              "      <td>0</td>\n",
              "      <td>0</td>\n",
              "      <td>0</td>\n",
              "      <td>0</td>\n",
              "      <td>0</td>\n",
              "      <td>0</td>\n",
              "      <td>0</td>\n",
              "      <td>0</td>\n",
              "      <td>0</td>\n",
              "      <td>0</td>\n",
              "      <td>0</td>\n",
              "      <td>0</td>\n",
              "      <td>0</td>\n",
              "      <td>0</td>\n",
              "      <td>0</td>\n",
              "      <td>0</td>\n",
              "      <td>0</td>\n",
              "      <td>0</td>\n",
              "      <td>0</td>\n",
              "      <td>0</td>\n",
              "      <td>0</td>\n",
              "      <td>0</td>\n",
              "      <td>0</td>\n",
              "      <td>0</td>\n",
              "    </tr>\n",
              "    <tr>\n",
              "      <th>1</th>\n",
              "      <td>2016-01-01 01:00:00</td>\n",
              "      <td>1</td>\n",
              "      <td>1</td>\n",
              "      <td>0</td>\n",
              "      <td>0</td>\n",
              "      <td>0</td>\n",
              "      <td>0</td>\n",
              "      <td>0</td>\n",
              "      <td>0</td>\n",
              "      <td>0</td>\n",
              "      <td>0</td>\n",
              "      <td>0</td>\n",
              "      <td>0</td>\n",
              "      <td>0</td>\n",
              "      <td>0</td>\n",
              "      <td>0</td>\n",
              "      <td>0</td>\n",
              "      <td>0</td>\n",
              "      <td>0</td>\n",
              "      <td>0</td>\n",
              "      <td>0</td>\n",
              "      <td>0</td>\n",
              "      <td>0</td>\n",
              "      <td>0</td>\n",
              "      <td>0</td>\n",
              "      <td>0</td>\n",
              "      <td>0</td>\n",
              "      <td>0</td>\n",
              "      <td>0</td>\n",
              "      <td>0</td>\n",
              "      <td>0</td>\n",
              "      <td>0</td>\n",
              "      <td>0</td>\n",
              "      <td>0</td>\n",
              "      <td>0</td>\n",
              "      <td>0</td>\n",
              "      <td>0</td>\n",
              "      <td>0</td>\n",
              "      <td>0</td>\n",
              "      <td>0</td>\n",
              "      <td>...</td>\n",
              "      <td>0</td>\n",
              "      <td>0</td>\n",
              "      <td>0</td>\n",
              "      <td>0</td>\n",
              "      <td>0</td>\n",
              "      <td>0</td>\n",
              "      <td>0</td>\n",
              "      <td>0</td>\n",
              "      <td>0</td>\n",
              "      <td>0</td>\n",
              "      <td>0</td>\n",
              "      <td>0</td>\n",
              "      <td>0</td>\n",
              "      <td>0</td>\n",
              "      <td>0</td>\n",
              "      <td>0</td>\n",
              "      <td>0</td>\n",
              "      <td>0</td>\n",
              "      <td>0</td>\n",
              "      <td>0</td>\n",
              "      <td>0</td>\n",
              "      <td>0</td>\n",
              "      <td>0</td>\n",
              "      <td>0</td>\n",
              "      <td>0</td>\n",
              "      <td>0</td>\n",
              "      <td>0</td>\n",
              "      <td>0</td>\n",
              "      <td>0</td>\n",
              "      <td>0</td>\n",
              "      <td>0</td>\n",
              "      <td>0</td>\n",
              "      <td>0</td>\n",
              "      <td>0</td>\n",
              "      <td>0</td>\n",
              "      <td>0</td>\n",
              "      <td>0</td>\n",
              "      <td>0</td>\n",
              "      <td>0</td>\n",
              "      <td>0</td>\n",
              "    </tr>\n",
              "    <tr>\n",
              "      <th>2</th>\n",
              "      <td>2016-01-01 02:00:00</td>\n",
              "      <td>0</td>\n",
              "      <td>0</td>\n",
              "      <td>1</td>\n",
              "      <td>0</td>\n",
              "      <td>0</td>\n",
              "      <td>0</td>\n",
              "      <td>0</td>\n",
              "      <td>0</td>\n",
              "      <td>0</td>\n",
              "      <td>0</td>\n",
              "      <td>0</td>\n",
              "      <td>0</td>\n",
              "      <td>0</td>\n",
              "      <td>0</td>\n",
              "      <td>0</td>\n",
              "      <td>0</td>\n",
              "      <td>0</td>\n",
              "      <td>0</td>\n",
              "      <td>0</td>\n",
              "      <td>0</td>\n",
              "      <td>0</td>\n",
              "      <td>0</td>\n",
              "      <td>0</td>\n",
              "      <td>0</td>\n",
              "      <td>0</td>\n",
              "      <td>0</td>\n",
              "      <td>0</td>\n",
              "      <td>0</td>\n",
              "      <td>0</td>\n",
              "      <td>0</td>\n",
              "      <td>0</td>\n",
              "      <td>0</td>\n",
              "      <td>0</td>\n",
              "      <td>0</td>\n",
              "      <td>0</td>\n",
              "      <td>0</td>\n",
              "      <td>0</td>\n",
              "      <td>0</td>\n",
              "      <td>0</td>\n",
              "      <td>...</td>\n",
              "      <td>0</td>\n",
              "      <td>0</td>\n",
              "      <td>0</td>\n",
              "      <td>0</td>\n",
              "      <td>0</td>\n",
              "      <td>0</td>\n",
              "      <td>0</td>\n",
              "      <td>0</td>\n",
              "      <td>0</td>\n",
              "      <td>0</td>\n",
              "      <td>0</td>\n",
              "      <td>0</td>\n",
              "      <td>0</td>\n",
              "      <td>0</td>\n",
              "      <td>0</td>\n",
              "      <td>0</td>\n",
              "      <td>0</td>\n",
              "      <td>0</td>\n",
              "      <td>0</td>\n",
              "      <td>0</td>\n",
              "      <td>0</td>\n",
              "      <td>0</td>\n",
              "      <td>0</td>\n",
              "      <td>0</td>\n",
              "      <td>0</td>\n",
              "      <td>0</td>\n",
              "      <td>0</td>\n",
              "      <td>0</td>\n",
              "      <td>0</td>\n",
              "      <td>0</td>\n",
              "      <td>0</td>\n",
              "      <td>0</td>\n",
              "      <td>0</td>\n",
              "      <td>0</td>\n",
              "      <td>0</td>\n",
              "      <td>0</td>\n",
              "      <td>0</td>\n",
              "      <td>0</td>\n",
              "      <td>0</td>\n",
              "      <td>0</td>\n",
              "    </tr>\n",
              "    <tr>\n",
              "      <th>3</th>\n",
              "      <td>2016-01-01 03:00:00</td>\n",
              "      <td>0</td>\n",
              "      <td>0</td>\n",
              "      <td>0</td>\n",
              "      <td>1</td>\n",
              "      <td>0</td>\n",
              "      <td>0</td>\n",
              "      <td>0</td>\n",
              "      <td>0</td>\n",
              "      <td>0</td>\n",
              "      <td>0</td>\n",
              "      <td>0</td>\n",
              "      <td>0</td>\n",
              "      <td>0</td>\n",
              "      <td>0</td>\n",
              "      <td>0</td>\n",
              "      <td>0</td>\n",
              "      <td>0</td>\n",
              "      <td>0</td>\n",
              "      <td>0</td>\n",
              "      <td>0</td>\n",
              "      <td>0</td>\n",
              "      <td>0</td>\n",
              "      <td>0</td>\n",
              "      <td>0</td>\n",
              "      <td>0</td>\n",
              "      <td>0</td>\n",
              "      <td>0</td>\n",
              "      <td>0</td>\n",
              "      <td>0</td>\n",
              "      <td>0</td>\n",
              "      <td>0</td>\n",
              "      <td>0</td>\n",
              "      <td>0</td>\n",
              "      <td>0</td>\n",
              "      <td>0</td>\n",
              "      <td>0</td>\n",
              "      <td>0</td>\n",
              "      <td>0</td>\n",
              "      <td>0</td>\n",
              "      <td>...</td>\n",
              "      <td>0</td>\n",
              "      <td>0</td>\n",
              "      <td>0</td>\n",
              "      <td>0</td>\n",
              "      <td>0</td>\n",
              "      <td>0</td>\n",
              "      <td>0</td>\n",
              "      <td>0</td>\n",
              "      <td>0</td>\n",
              "      <td>0</td>\n",
              "      <td>0</td>\n",
              "      <td>0</td>\n",
              "      <td>0</td>\n",
              "      <td>0</td>\n",
              "      <td>0</td>\n",
              "      <td>0</td>\n",
              "      <td>0</td>\n",
              "      <td>0</td>\n",
              "      <td>0</td>\n",
              "      <td>0</td>\n",
              "      <td>0</td>\n",
              "      <td>0</td>\n",
              "      <td>0</td>\n",
              "      <td>0</td>\n",
              "      <td>0</td>\n",
              "      <td>0</td>\n",
              "      <td>0</td>\n",
              "      <td>0</td>\n",
              "      <td>0</td>\n",
              "      <td>0</td>\n",
              "      <td>0</td>\n",
              "      <td>0</td>\n",
              "      <td>0</td>\n",
              "      <td>0</td>\n",
              "      <td>0</td>\n",
              "      <td>0</td>\n",
              "      <td>0</td>\n",
              "      <td>0</td>\n",
              "      <td>0</td>\n",
              "      <td>0</td>\n",
              "    </tr>\n",
              "    <tr>\n",
              "      <th>4</th>\n",
              "      <td>2016-01-01 04:00:00</td>\n",
              "      <td>0</td>\n",
              "      <td>0</td>\n",
              "      <td>0</td>\n",
              "      <td>0</td>\n",
              "      <td>1</td>\n",
              "      <td>0</td>\n",
              "      <td>0</td>\n",
              "      <td>0</td>\n",
              "      <td>0</td>\n",
              "      <td>0</td>\n",
              "      <td>0</td>\n",
              "      <td>0</td>\n",
              "      <td>0</td>\n",
              "      <td>0</td>\n",
              "      <td>0</td>\n",
              "      <td>0</td>\n",
              "      <td>0</td>\n",
              "      <td>0</td>\n",
              "      <td>0</td>\n",
              "      <td>0</td>\n",
              "      <td>0</td>\n",
              "      <td>0</td>\n",
              "      <td>0</td>\n",
              "      <td>0</td>\n",
              "      <td>0</td>\n",
              "      <td>0</td>\n",
              "      <td>0</td>\n",
              "      <td>0</td>\n",
              "      <td>0</td>\n",
              "      <td>0</td>\n",
              "      <td>0</td>\n",
              "      <td>0</td>\n",
              "      <td>0</td>\n",
              "      <td>0</td>\n",
              "      <td>0</td>\n",
              "      <td>0</td>\n",
              "      <td>0</td>\n",
              "      <td>0</td>\n",
              "      <td>0</td>\n",
              "      <td>...</td>\n",
              "      <td>0</td>\n",
              "      <td>0</td>\n",
              "      <td>0</td>\n",
              "      <td>0</td>\n",
              "      <td>0</td>\n",
              "      <td>0</td>\n",
              "      <td>0</td>\n",
              "      <td>0</td>\n",
              "      <td>0</td>\n",
              "      <td>0</td>\n",
              "      <td>0</td>\n",
              "      <td>0</td>\n",
              "      <td>0</td>\n",
              "      <td>0</td>\n",
              "      <td>0</td>\n",
              "      <td>0</td>\n",
              "      <td>0</td>\n",
              "      <td>0</td>\n",
              "      <td>0</td>\n",
              "      <td>0</td>\n",
              "      <td>0</td>\n",
              "      <td>0</td>\n",
              "      <td>0</td>\n",
              "      <td>0</td>\n",
              "      <td>0</td>\n",
              "      <td>0</td>\n",
              "      <td>0</td>\n",
              "      <td>0</td>\n",
              "      <td>0</td>\n",
              "      <td>0</td>\n",
              "      <td>0</td>\n",
              "      <td>0</td>\n",
              "      <td>0</td>\n",
              "      <td>0</td>\n",
              "      <td>0</td>\n",
              "      <td>0</td>\n",
              "      <td>0</td>\n",
              "      <td>0</td>\n",
              "      <td>0</td>\n",
              "      <td>0</td>\n",
              "    </tr>\n",
              "  </tbody>\n",
              "</table>\n",
              "<p>5 rows × 545 columns</p>\n",
              "</div>"
            ],
            "text/plain": [
              "             datetime  S0B3CGQ  RYJYAPI  ...  4T821GV  J6A19TW  43RCYZH\n",
              "0 2016-01-01 00:00:00        0        0  ...        0        0        0\n",
              "1 2016-01-01 01:00:00        1        1  ...        0        0        0\n",
              "2 2016-01-01 02:00:00        0        0  ...        0        0        0\n",
              "3 2016-01-01 03:00:00        0        0  ...        0        0        0\n",
              "4 2016-01-01 04:00:00        0        0  ...        0        0        0\n",
              "\n",
              "[5 rows x 545 columns]"
            ]
          },
          "metadata": {
            "tags": []
          },
          "execution_count": 8
        }
      ]
    },
    {
      "cell_type": "code",
      "metadata": {
        "id": "6I_6sJ7b96RP",
        "colab_type": "code",
        "outputId": "54e56a86-0c49-4df6-99e0-d2776116725c",
        "colab": {
          "base_uri": "https://localhost:8080/",
          "height": 204
        }
      },
      "source": [
        "# Reshape this as in sample submission\n",
        "# I add some extra columns that may be useful\n",
        "train = pd.DataFrame({\n",
        "    'datetime x segment_id':np.concatenate([[str(x) + \" x \" + str(c) \n",
        "                                             for c in sids] \n",
        "                                            for x in tr['datetime']]),\n",
        "    'datetime':np.concatenate([[str(x) for c in sids] for x in tr['datetime']]),\n",
        "    'segment_id':np.concatenate([[str(c) for c in sids] for x in tr['datetime']]),\n",
        "    'y':tr[sids].values.flatten()\n",
        "})\n",
        "train.head()"
      ],
      "execution_count": 9,
      "outputs": [
        {
          "output_type": "execute_result",
          "data": {
            "text/html": [
              "<div>\n",
              "<style scoped>\n",
              "    .dataframe tbody tr th:only-of-type {\n",
              "        vertical-align: middle;\n",
              "    }\n",
              "\n",
              "    .dataframe tbody tr th {\n",
              "        vertical-align: top;\n",
              "    }\n",
              "\n",
              "    .dataframe thead th {\n",
              "        text-align: right;\n",
              "    }\n",
              "</style>\n",
              "<table border=\"1\" class=\"dataframe\">\n",
              "  <thead>\n",
              "    <tr style=\"text-align: right;\">\n",
              "      <th></th>\n",
              "      <th>datetime x segment_id</th>\n",
              "      <th>datetime</th>\n",
              "      <th>segment_id</th>\n",
              "      <th>y</th>\n",
              "    </tr>\n",
              "  </thead>\n",
              "  <tbody>\n",
              "    <tr>\n",
              "      <th>0</th>\n",
              "      <td>2016-01-01 00:00:00 x S0B3CGQ</td>\n",
              "      <td>2016-01-01 00:00:00</td>\n",
              "      <td>S0B3CGQ</td>\n",
              "      <td>0</td>\n",
              "    </tr>\n",
              "    <tr>\n",
              "      <th>1</th>\n",
              "      <td>2016-01-01 00:00:00 x RYJYAPI</td>\n",
              "      <td>2016-01-01 00:00:00</td>\n",
              "      <td>RYJYAPI</td>\n",
              "      <td>0</td>\n",
              "    </tr>\n",
              "    <tr>\n",
              "      <th>2</th>\n",
              "      <td>2016-01-01 00:00:00 x U3KP57C</td>\n",
              "      <td>2016-01-01 00:00:00</td>\n",
              "      <td>U3KP57C</td>\n",
              "      <td>0</td>\n",
              "    </tr>\n",
              "    <tr>\n",
              "      <th>3</th>\n",
              "      <td>2016-01-01 00:00:00 x RY0TRQ8</td>\n",
              "      <td>2016-01-01 00:00:00</td>\n",
              "      <td>RY0TRQ8</td>\n",
              "      <td>0</td>\n",
              "    </tr>\n",
              "    <tr>\n",
              "      <th>4</th>\n",
              "      <td>2016-01-01 00:00:00 x 8LOVJZ3</td>\n",
              "      <td>2016-01-01 00:00:00</td>\n",
              "      <td>8LOVJZ3</td>\n",
              "      <td>0</td>\n",
              "    </tr>\n",
              "  </tbody>\n",
              "</table>\n",
              "</div>"
            ],
            "text/plain": [
              "           datetime x segment_id             datetime segment_id  y\n",
              "0  2016-01-01 00:00:00 x S0B3CGQ  2016-01-01 00:00:00    S0B3CGQ  0\n",
              "1  2016-01-01 00:00:00 x RYJYAPI  2016-01-01 00:00:00    RYJYAPI  0\n",
              "2  2016-01-01 00:00:00 x U3KP57C  2016-01-01 00:00:00    U3KP57C  0\n",
              "3  2016-01-01 00:00:00 x RY0TRQ8  2016-01-01 00:00:00    RY0TRQ8  0\n",
              "4  2016-01-01 00:00:00 x 8LOVJZ3  2016-01-01 00:00:00    8LOVJZ3  0"
            ]
          },
          "metadata": {
            "tags": []
          },
          "execution_count": 9
        }
      ]
    },
    {
      "cell_type": "markdown",
      "metadata": {
        "id": "QjjxS7zKP39a",
        "colab_type": "text"
      },
      "source": [
        "# Adding info from road_segments.shp"
      ]
    },
    {
      "cell_type": "code",
      "metadata": {
        "id": "MYtQxSzj99yv",
        "colab_type": "code",
        "outputId": "861f68a8-3280-4b91-de97-82d48bc7bf0b",
        "colab": {
          "base_uri": "https://localhost:8080/",
          "height": 269
        }
      },
      "source": [
        "!pip install geopandas"
      ],
      "execution_count": 12,
      "outputs": [
        {
          "output_type": "stream",
          "text": [
            "Requirement already satisfied: geopandas in /usr/local/lib/python3.6/dist-packages (0.6.2)\n",
            "Requirement already satisfied: fiona in /usr/local/lib/python3.6/dist-packages (from geopandas) (1.8.13)\n",
            "Requirement already satisfied: shapely in /usr/local/lib/python3.6/dist-packages (from geopandas) (1.6.4.post2)\n",
            "Requirement already satisfied: pandas>=0.23.0 in /usr/local/lib/python3.6/dist-packages (from geopandas) (0.25.3)\n",
            "Requirement already satisfied: pyproj in /usr/local/lib/python3.6/dist-packages (from geopandas) (2.4.2.post1)\n",
            "Requirement already satisfied: munch in /usr/local/lib/python3.6/dist-packages (from fiona->geopandas) (2.5.0)\n",
            "Requirement already satisfied: six>=1.7 in /usr/local/lib/python3.6/dist-packages (from fiona->geopandas) (1.12.0)\n",
            "Requirement already satisfied: cligj>=0.5 in /usr/local/lib/python3.6/dist-packages (from fiona->geopandas) (0.5.0)\n",
            "Requirement already satisfied: attrs>=17 in /usr/local/lib/python3.6/dist-packages (from fiona->geopandas) (19.3.0)\n",
            "Requirement already satisfied: click<8,>=4.0 in /usr/local/lib/python3.6/dist-packages (from fiona->geopandas) (7.0)\n",
            "Requirement already satisfied: click-plugins>=1.0 in /usr/local/lib/python3.6/dist-packages (from fiona->geopandas) (1.1.1)\n",
            "Requirement already satisfied: python-dateutil>=2.6.1 in /usr/local/lib/python3.6/dist-packages (from pandas>=0.23.0->geopandas) (2.6.1)\n",
            "Requirement already satisfied: pytz>=2017.2 in /usr/local/lib/python3.6/dist-packages (from pandas>=0.23.0->geopandas) (2018.9)\n",
            "Requirement already satisfied: numpy>=1.13.3 in /usr/local/lib/python3.6/dist-packages (from pandas>=0.23.0->geopandas) (1.17.5)\n"
          ],
          "name": "stdout"
        }
      ]
    },
    {
      "cell_type": "code",
      "metadata": {
        "id": "-M8cnEXT-Qpb",
        "colab_type": "code",
        "outputId": "4df6aeae-4e7f-4acf-d527-201ecd48f2b6",
        "colab": {
          "base_uri": "https://localhost:8080/",
          "height": 53
        }
      },
      "source": [
        "!unzip road_segments.zip"
      ],
      "execution_count": 13,
      "outputs": [
        {
          "output_type": "stream",
          "text": [
            "Archive:  road_segments.zip\n",
            "replace road_segments/road_segments.shp? [y]es, [n]o, [A]ll, [N]one, [r]ename: "
          ],
          "name": "stdout"
        }
      ]
    },
    {
      "cell_type": "code",
      "metadata": {
        "id": "pprtYDcN-BwE",
        "colab_type": "code",
        "outputId": "393ff967-b85f-40a7-d26b-ba7f19264f03",
        "colab": {
          "base_uri": "https://localhost:8080/",
          "height": 424
        }
      },
      "source": [
        "import geopandas as gpd\n",
        "road_segments = gpd.read_file('road_segments/road_segments.shp')\n",
        "road_segments.geometry.plot()\n",
        "road_segments.head()"
      ],
      "execution_count": 10,
      "outputs": [
        {
          "output_type": "execute_result",
          "data": {
            "text/html": [
              "<div>\n",
              "<style scoped>\n",
              "    .dataframe tbody tr th:only-of-type {\n",
              "        vertical-align: middle;\n",
              "    }\n",
              "\n",
              "    .dataframe tbody tr th {\n",
              "        vertical-align: top;\n",
              "    }\n",
              "\n",
              "    .dataframe thead th {\n",
              "        text-align: right;\n",
              "    }\n",
              "</style>\n",
              "<table border=\"1\" class=\"dataframe\">\n",
              "  <thead>\n",
              "    <tr style=\"text-align: right;\">\n",
              "      <th></th>\n",
              "      <th>ROADNO</th>\n",
              "      <th>CLASS</th>\n",
              "      <th>REGION</th>\n",
              "      <th>WIDTH</th>\n",
              "      <th>LANES</th>\n",
              "      <th>SURFTYPE</th>\n",
              "      <th>PAVETYPE</th>\n",
              "      <th>CONDITION</th>\n",
              "      <th>length_1</th>\n",
              "      <th>segment_id</th>\n",
              "      <th>geometry</th>\n",
              "    </tr>\n",
              "  </thead>\n",
              "  <tbody>\n",
              "    <tr>\n",
              "      <th>0</th>\n",
              "      <td>R300</td>\n",
              "      <td>Primary</td>\n",
              "      <td>Western Cape</td>\n",
              "      <td>20.2</td>\n",
              "      <td>2</td>\n",
              "      <td>Paved</td>\n",
              "      <td>FLEX</td>\n",
              "      <td>Good</td>\n",
              "      <td>471.207</td>\n",
              "      <td>D1U6OOF</td>\n",
              "      <td>LINESTRING (18.65262 -33.97724, 18.65264 -33.9...</td>\n",
              "    </tr>\n",
              "    <tr>\n",
              "      <th>1</th>\n",
              "      <td>R300</td>\n",
              "      <td>Primary</td>\n",
              "      <td>Western Cape</td>\n",
              "      <td>20.2</td>\n",
              "      <td>2</td>\n",
              "      <td>Paved</td>\n",
              "      <td>FLEX</td>\n",
              "      <td>Good</td>\n",
              "      <td>471.207</td>\n",
              "      <td>NG4X2MD</td>\n",
              "      <td>LINESTRING (18.65347 -33.97309, 18.65347 -33.9...</td>\n",
              "    </tr>\n",
              "    <tr>\n",
              "      <th>2</th>\n",
              "      <td>R300</td>\n",
              "      <td>Primary</td>\n",
              "      <td>Western Cape</td>\n",
              "      <td>20.2</td>\n",
              "      <td>2</td>\n",
              "      <td>Paved</td>\n",
              "      <td>FLEX</td>\n",
              "      <td>Good</td>\n",
              "      <td>471.207</td>\n",
              "      <td>792705Z</td>\n",
              "      <td>LINESTRING (18.65431 -33.96894, 18.65432 -33.9...</td>\n",
              "    </tr>\n",
              "    <tr>\n",
              "      <th>3</th>\n",
              "      <td>R300</td>\n",
              "      <td>Primary</td>\n",
              "      <td>Western Cape</td>\n",
              "      <td>20.2</td>\n",
              "      <td>2</td>\n",
              "      <td>Paved</td>\n",
              "      <td>FLEX</td>\n",
              "      <td>Good</td>\n",
              "      <td>471.207</td>\n",
              "      <td>IK67XHB</td>\n",
              "      <td>LINESTRING (18.65515 -33.96480, 18.65517 -33.9...</td>\n",
              "    </tr>\n",
              "    <tr>\n",
              "      <th>4</th>\n",
              "      <td>R300</td>\n",
              "      <td>Primary</td>\n",
              "      <td>Western Cape</td>\n",
              "      <td>20.2</td>\n",
              "      <td>2</td>\n",
              "      <td>Paved</td>\n",
              "      <td>FLEX</td>\n",
              "      <td>Good</td>\n",
              "      <td>471.207</td>\n",
              "      <td>OWCF2MH</td>\n",
              "      <td>LINESTRING (18.65600 -33.96065, 18.65602 -33.9...</td>\n",
              "    </tr>\n",
              "  </tbody>\n",
              "</table>\n",
              "</div>"
            ],
            "text/plain": [
              "  ROADNO    CLASS  ... segment_id                                           geometry\n",
              "0   R300  Primary  ...    D1U6OOF  LINESTRING (18.65262 -33.97724, 18.65264 -33.9...\n",
              "1   R300  Primary  ...    NG4X2MD  LINESTRING (18.65347 -33.97309, 18.65347 -33.9...\n",
              "2   R300  Primary  ...    792705Z  LINESTRING (18.65431 -33.96894, 18.65432 -33.9...\n",
              "3   R300  Primary  ...    IK67XHB  LINESTRING (18.65515 -33.96480, 18.65517 -33.9...\n",
              "4   R300  Primary  ...    OWCF2MH  LINESTRING (18.65600 -33.96065, 18.65602 -33.9...\n",
              "\n",
              "[5 rows x 11 columns]"
            ]
          },
          "metadata": {
            "tags": []
          },
          "execution_count": 10
        },
        {
          "output_type": "display_data",
          "data": {
            "image/png": "[encoded data removed]",
            "text/plain": [
              "<Figure size 432x288 with 1 Axes>"
            ]
          },
          "metadata": {
            "tags": []
          }
        }
      ]
    },
    {
      "cell_type": "markdown",
      "metadata": {
        "id": "LoLwVA2PQQFD",
        "colab_type": "text"
      },
      "source": [
        "# Getting locations of each segment"
      ]
    },
    {
      "cell_type": "code",
      "metadata": {
        "id": "vCSquqSx-EEp",
        "colab_type": "code",
        "outputId": "5e745190-8df6-42ea-aff2-d192c6d424fa",
        "colab": {
          "base_uri": "https://localhost:8080/",
          "height": 142
        }
      },
      "source": [
        "locations = data.groupby('road_segment_id').mean()[['longitude', 'latitude']]\n",
        "locations.head(2)"
      ],
      "execution_count": 11,
      "outputs": [
        {
          "output_type": "execute_result",
          "data": {
            "text/html": [
              "<div>\n",
              "<style scoped>\n",
              "    .dataframe tbody tr th:only-of-type {\n",
              "        vertical-align: middle;\n",
              "    }\n",
              "\n",
              "    .dataframe tbody tr th {\n",
              "        vertical-align: top;\n",
              "    }\n",
              "\n",
              "    .dataframe thead th {\n",
              "        text-align: right;\n",
              "    }\n",
              "</style>\n",
              "<table border=\"1\" class=\"dataframe\">\n",
              "  <thead>\n",
              "    <tr style=\"text-align: right;\">\n",
              "      <th></th>\n",
              "      <th>longitude</th>\n",
              "      <th>latitude</th>\n",
              "    </tr>\n",
              "    <tr>\n",
              "      <th>road_segment_id</th>\n",
              "      <th></th>\n",
              "      <th></th>\n",
              "    </tr>\n",
              "  </thead>\n",
              "  <tbody>\n",
              "    <tr>\n",
              "      <th>03RHJ3G</th>\n",
              "      <td>18.460052</td>\n",
              "      <td>-33.943181</td>\n",
              "    </tr>\n",
              "    <tr>\n",
              "      <th>044ZYVD</th>\n",
              "      <td>18.555037</td>\n",
              "      <td>-33.890148</td>\n",
              "    </tr>\n",
              "  </tbody>\n",
              "</table>\n",
              "</div>"
            ],
            "text/plain": [
              "                 longitude   latitude\n",
              "road_segment_id                      \n",
              "03RHJ3G          18.460052 -33.943181\n",
              "044ZYVD          18.555037 -33.890148"
            ]
          },
          "metadata": {
            "tags": []
          },
          "execution_count": 11
        }
      ]
    },
    {
      "cell_type": "markdown",
      "metadata": {
        "id": "f5B_npsLQVOg",
        "colab_type": "text"
      },
      "source": [
        "# Adding weather"
      ]
    },
    {
      "cell_type": "code",
      "metadata": {
        "id": "1uer0hMOQ85h",
        "colab_type": "code",
        "outputId": "c478af5b-b446-4649-c727-eec27b095f9b",
        "colab": {
          "base_uri": "https://localhost:8080/",
          "height": 204
        }
      },
      "source": [
        "w = pd.read_csv('weather.csv',\n",
        "               parse_dates=['Local time in Cape Town (airport)'])\n",
        "w.head()"
      ],
      "execution_count": 12,
      "outputs": [
        {
          "output_type": "execute_result",
          "data": {
            "text/html": [
              "<div>\n",
              "<style scoped>\n",
              "    .dataframe tbody tr th:only-of-type {\n",
              "        vertical-align: middle;\n",
              "    }\n",
              "\n",
              "    .dataframe tbody tr th {\n",
              "        vertical-align: top;\n",
              "    }\n",
              "\n",
              "    .dataframe thead th {\n",
              "        text-align: right;\n",
              "    }\n",
              "</style>\n",
              "<table border=\"1\" class=\"dataframe\">\n",
              "  <thead>\n",
              "    <tr style=\"text-align: right;\">\n",
              "      <th></th>\n",
              "      <th>Local time in Cape Town (airport)</th>\n",
              "      <th>T</th>\n",
              "      <th>P0</th>\n",
              "      <th>P</th>\n",
              "      <th>U</th>\n",
              "      <th>DD</th>\n",
              "      <th>Ff</th>\n",
              "      <th>ff10</th>\n",
              "      <th>WW</th>\n",
              "      <th>W'W'</th>\n",
              "      <th>c</th>\n",
              "      <th>VV</th>\n",
              "      <th>Td</th>\n",
              "    </tr>\n",
              "  </thead>\n",
              "  <tbody>\n",
              "    <tr>\n",
              "      <th>0</th>\n",
              "      <td>2020-01-01 23:00:00</td>\n",
              "      <td>19.0</td>\n",
              "      <td>756.0</td>\n",
              "      <td>759.7</td>\n",
              "      <td>88.0</td>\n",
              "      <td>Wind blowing from the south</td>\n",
              "      <td>9.0</td>\n",
              "      <td>NaN</td>\n",
              "      <td>NaN</td>\n",
              "      <td>NaN</td>\n",
              "      <td>Few clouds (10-30%) 300 m</td>\n",
              "      <td>10.0 and more</td>\n",
              "      <td>17.0</td>\n",
              "    </tr>\n",
              "    <tr>\n",
              "      <th>1</th>\n",
              "      <td>2020-01-01 22:00:00</td>\n",
              "      <td>19.0</td>\n",
              "      <td>756.0</td>\n",
              "      <td>759.7</td>\n",
              "      <td>88.0</td>\n",
              "      <td>Wind blowing from the south</td>\n",
              "      <td>10.0</td>\n",
              "      <td>NaN</td>\n",
              "      <td>NaN</td>\n",
              "      <td>NaN</td>\n",
              "      <td>Few clouds (10-30%) 450 m</td>\n",
              "      <td>10.0 and more</td>\n",
              "      <td>17.0</td>\n",
              "    </tr>\n",
              "    <tr>\n",
              "      <th>2</th>\n",
              "      <td>2020-01-01 21:00:00</td>\n",
              "      <td>19.0</td>\n",
              "      <td>756.0</td>\n",
              "      <td>759.7</td>\n",
              "      <td>88.0</td>\n",
              "      <td>Wind blowing from the south</td>\n",
              "      <td>10.0</td>\n",
              "      <td>NaN</td>\n",
              "      <td>NaN</td>\n",
              "      <td>NaN</td>\n",
              "      <td>Few clouds (10-30%) 450 m</td>\n",
              "      <td>10.0 and more</td>\n",
              "      <td>17.0</td>\n",
              "    </tr>\n",
              "    <tr>\n",
              "      <th>3</th>\n",
              "      <td>2020-01-01 20:00:00</td>\n",
              "      <td>20.0</td>\n",
              "      <td>755.3</td>\n",
              "      <td>759.0</td>\n",
              "      <td>83.0</td>\n",
              "      <td>Wind blowing from the south</td>\n",
              "      <td>11.0</td>\n",
              "      <td>NaN</td>\n",
              "      <td>NaN</td>\n",
              "      <td>NaN</td>\n",
              "      <td>Few clouds (10-30%) 540 m</td>\n",
              "      <td>10.0 and more</td>\n",
              "      <td>17.0</td>\n",
              "    </tr>\n",
              "    <tr>\n",
              "      <th>4</th>\n",
              "      <td>2020-01-01 19:00:00</td>\n",
              "      <td>21.0</td>\n",
              "      <td>755.3</td>\n",
              "      <td>759.0</td>\n",
              "      <td>78.0</td>\n",
              "      <td>Wind blowing from the south</td>\n",
              "      <td>11.0</td>\n",
              "      <td>NaN</td>\n",
              "      <td>NaN</td>\n",
              "      <td>NaN</td>\n",
              "      <td>Few clouds (10-30%) 450 m</td>\n",
              "      <td>10.0 and more</td>\n",
              "      <td>17.0</td>\n",
              "    </tr>\n",
              "  </tbody>\n",
              "</table>\n",
              "</div>"
            ],
            "text/plain": [
              "  Local time in Cape Town (airport)     T  ...             VV    Td\n",
              "0               2020-01-01 23:00:00  19.0  ...  10.0 and more  17.0\n",
              "1               2020-01-01 22:00:00  19.0  ...  10.0 and more  17.0\n",
              "2               2020-01-01 21:00:00  19.0  ...  10.0 and more  17.0\n",
              "3               2020-01-01 20:00:00  20.0  ...  10.0 and more  17.0\n",
              "4               2020-01-01 19:00:00  21.0  ...  10.0 and more  17.0\n",
              "\n",
              "[5 rows x 13 columns]"
            ]
          },
          "metadata": {
            "tags": []
          },
          "execution_count": 12
        }
      ]
    },
    {
      "cell_type": "code",
      "metadata": {
        "id": "MJ86pz8ivH5M",
        "colab_type": "code",
        "colab": {}
      },
      "source": [
        "# Add weather\n",
        "w['dt'] = w['Local time in Cape Town (airport)'].dt.round('H')\n",
        "w_cols = ['dt', 'T','Td', 'P0','P', 'U', 'Ff']"
      ],
      "execution_count": 0,
      "outputs": []
    },
    {
      "cell_type": "markdown",
      "metadata": {
        "id": "vBoYAJA7QaxP",
        "colab_type": "text"
      },
      "source": [
        "# Merge in the new data and add date vars etc"
      ]
    },
    {
      "cell_type": "code",
      "metadata": {
        "id": "gr2Wl9FK-GBc",
        "colab_type": "code",
        "outputId": "39a3d558-20f5-415f-83fc-7343d6ea7deb",
        "colab": {
          "base_uri": "https://localhost:8080/",
          "height": 581
        }
      },
      "source": [
        "# Pre-process the train\n",
        "train['datetime'] = pd.to_datetime(train['datetime'])\n",
        "train['just_date'] = train['datetime'].dt.date\n",
        "train['month'] = train['datetime'].dt.month\n",
        "train['day'] = train['datetime'].dt.weekday_name\n",
        "train['min'] = train['datetime'].dt.hour*60+train['datetime'].dt.minute\n",
        "train = pd.merge(train, road_segments, on='segment_id', how='left') # Segment info\n",
        "train = pd.merge(train, locations, left_on='segment_id', right_on='road_segment_id', how='left') # Segment locations\n",
        "train = pd.merge(train, w[w_cols], left_on='datetime', right_on='dt', how='left') # Weather\n",
        "\n",
        "\n",
        "\n",
        "train.head()"
      ],
      "execution_count": 14,
      "outputs": [
        {
          "output_type": "execute_result",
          "data": {
            "text/html": [
              "<div>\n",
              "<style scoped>\n",
              "    .dataframe tbody tr th:only-of-type {\n",
              "        vertical-align: middle;\n",
              "    }\n",
              "\n",
              "    .dataframe tbody tr th {\n",
              "        vertical-align: top;\n",
              "    }\n",
              "\n",
              "    .dataframe thead th {\n",
              "        text-align: right;\n",
              "    }\n",
              "</style>\n",
              "<table border=\"1\" class=\"dataframe\">\n",
              "  <thead>\n",
              "    <tr style=\"text-align: right;\">\n",
              "      <th></th>\n",
              "      <th>datetime x segment_id</th>\n",
              "      <th>datetime</th>\n",
              "      <th>segment_id</th>\n",
              "      <th>y</th>\n",
              "      <th>just_date</th>\n",
              "      <th>month</th>\n",
              "      <th>day</th>\n",
              "      <th>min</th>\n",
              "      <th>ROADNO</th>\n",
              "      <th>CLASS</th>\n",
              "      <th>REGION</th>\n",
              "      <th>WIDTH</th>\n",
              "      <th>LANES</th>\n",
              "      <th>SURFTYPE</th>\n",
              "      <th>PAVETYPE</th>\n",
              "      <th>CONDITION</th>\n",
              "      <th>length_1</th>\n",
              "      <th>geometry</th>\n",
              "      <th>longitude</th>\n",
              "      <th>latitude</th>\n",
              "      <th>dt</th>\n",
              "      <th>T</th>\n",
              "      <th>Td</th>\n",
              "      <th>P0</th>\n",
              "      <th>P</th>\n",
              "      <th>U</th>\n",
              "      <th>Ff</th>\n",
              "    </tr>\n",
              "  </thead>\n",
              "  <tbody>\n",
              "    <tr>\n",
              "      <th>0</th>\n",
              "      <td>2016-01-01 00:00:00 x S0B3CGQ</td>\n",
              "      <td>2016-01-01</td>\n",
              "      <td>S0B3CGQ</td>\n",
              "      <td>0</td>\n",
              "      <td>2016-01-01</td>\n",
              "      <td>1</td>\n",
              "      <td>Friday</td>\n",
              "      <td>0</td>\n",
              "      <td>N1</td>\n",
              "      <td>Primary</td>\n",
              "      <td>Western Cape</td>\n",
              "      <td>0.0</td>\n",
              "      <td>0</td>\n",
              "      <td>Paved</td>\n",
              "      <td>Unknown</td>\n",
              "      <td>Unknown</td>\n",
              "      <td>521.765</td>\n",
              "      <td>LINESTRING (18.54354 -33.89011, 18.54268 -33.8...</td>\n",
              "      <td>18.541422</td>\n",
              "      <td>-33.888613</td>\n",
              "      <td>2016-01-01</td>\n",
              "      <td>22.0</td>\n",
              "      <td>19.0</td>\n",
              "      <td>756.0</td>\n",
              "      <td>759.7</td>\n",
              "      <td>83.0</td>\n",
              "      <td>5.0</td>\n",
              "    </tr>\n",
              "    <tr>\n",
              "      <th>1</th>\n",
              "      <td>2016-01-01 00:00:00 x RYJYAPI</td>\n",
              "      <td>2016-01-01</td>\n",
              "      <td>RYJYAPI</td>\n",
              "      <td>0</td>\n",
              "      <td>2016-01-01</td>\n",
              "      <td>1</td>\n",
              "      <td>Friday</td>\n",
              "      <td>0</td>\n",
              "      <td>N2</td>\n",
              "      <td>Primary</td>\n",
              "      <td>Western Cape</td>\n",
              "      <td>12.8</td>\n",
              "      <td>2</td>\n",
              "      <td>Paved</td>\n",
              "      <td>FLEX</td>\n",
              "      <td>Very Good</td>\n",
              "      <td>521.945</td>\n",
              "      <td>LINESTRING (18.93214 -34.13857, 18.93208 -34.1...</td>\n",
              "      <td>18.931088</td>\n",
              "      <td>-34.139930</td>\n",
              "      <td>2016-01-01</td>\n",
              "      <td>22.0</td>\n",
              "      <td>19.0</td>\n",
              "      <td>756.0</td>\n",
              "      <td>759.7</td>\n",
              "      <td>83.0</td>\n",
              "      <td>5.0</td>\n",
              "    </tr>\n",
              "    <tr>\n",
              "      <th>2</th>\n",
              "      <td>2016-01-01 00:00:00 x U3KP57C</td>\n",
              "      <td>2016-01-01</td>\n",
              "      <td>U3KP57C</td>\n",
              "      <td>0</td>\n",
              "      <td>2016-01-01</td>\n",
              "      <td>1</td>\n",
              "      <td>Friday</td>\n",
              "      <td>0</td>\n",
              "      <td>N2</td>\n",
              "      <td>Primary</td>\n",
              "      <td>Western Cape</td>\n",
              "      <td>0.0</td>\n",
              "      <td>0</td>\n",
              "      <td>Paved</td>\n",
              "      <td>Unknown</td>\n",
              "      <td>Unknown</td>\n",
              "      <td>452.679</td>\n",
              "      <td>LINESTRING (18.55332 -33.95934, 18.54963 -33.9...</td>\n",
              "      <td>18.550771</td>\n",
              "      <td>-33.958279</td>\n",
              "      <td>2016-01-01</td>\n",
              "      <td>22.0</td>\n",
              "      <td>19.0</td>\n",
              "      <td>756.0</td>\n",
              "      <td>759.7</td>\n",
              "      <td>83.0</td>\n",
              "      <td>5.0</td>\n",
              "    </tr>\n",
              "    <tr>\n",
              "      <th>3</th>\n",
              "      <td>2016-01-01 00:00:00 x RY0TRQ8</td>\n",
              "      <td>2016-01-01</td>\n",
              "      <td>RY0TRQ8</td>\n",
              "      <td>0</td>\n",
              "      <td>2016-01-01</td>\n",
              "      <td>1</td>\n",
              "      <td>Friday</td>\n",
              "      <td>0</td>\n",
              "      <td>R300</td>\n",
              "      <td>Primary</td>\n",
              "      <td>Western Cape</td>\n",
              "      <td>20.2</td>\n",
              "      <td>2</td>\n",
              "      <td>Paved</td>\n",
              "      <td>FLEX</td>\n",
              "      <td>Fair</td>\n",
              "      <td>493.974</td>\n",
              "      <td>LINESTRING (18.67690 -33.89936, 18.67691 -33.8...</td>\n",
              "      <td>18.677475</td>\n",
              "      <td>-33.896611</td>\n",
              "      <td>2016-01-01</td>\n",
              "      <td>22.0</td>\n",
              "      <td>19.0</td>\n",
              "      <td>756.0</td>\n",
              "      <td>759.7</td>\n",
              "      <td>83.0</td>\n",
              "      <td>5.0</td>\n",
              "    </tr>\n",
              "    <tr>\n",
              "      <th>4</th>\n",
              "      <td>2016-01-01 00:00:00 x 8LOVJZ3</td>\n",
              "      <td>2016-01-01</td>\n",
              "      <td>8LOVJZ3</td>\n",
              "      <td>0</td>\n",
              "      <td>2016-01-01</td>\n",
              "      <td>1</td>\n",
              "      <td>Friday</td>\n",
              "      <td>0</td>\n",
              "      <td>N2</td>\n",
              "      <td>Primary</td>\n",
              "      <td>Western Cape</td>\n",
              "      <td>20.2</td>\n",
              "      <td>2</td>\n",
              "      <td>Paved</td>\n",
              "      <td>FLEX</td>\n",
              "      <td>Very Good</td>\n",
              "      <td>569.263</td>\n",
              "      <td>LINESTRING (18.83297 -34.08474, 18.83303 -34.0...</td>\n",
              "      <td>18.836121</td>\n",
              "      <td>-34.086109</td>\n",
              "      <td>2016-01-01</td>\n",
              "      <td>22.0</td>\n",
              "      <td>19.0</td>\n",
              "      <td>756.0</td>\n",
              "      <td>759.7</td>\n",
              "      <td>83.0</td>\n",
              "      <td>5.0</td>\n",
              "    </tr>\n",
              "  </tbody>\n",
              "</table>\n",
              "</div>"
            ],
            "text/plain": [
              "           datetime x segment_id   datetime segment_id  ...      P     U   Ff\n",
              "0  2016-01-01 00:00:00 x S0B3CGQ 2016-01-01    S0B3CGQ  ...  759.7  83.0  5.0\n",
              "1  2016-01-01 00:00:00 x RYJYAPI 2016-01-01    RYJYAPI  ...  759.7  83.0  5.0\n",
              "2  2016-01-01 00:00:00 x U3KP57C 2016-01-01    U3KP57C  ...  759.7  83.0  5.0\n",
              "3  2016-01-01 00:00:00 x RY0TRQ8 2016-01-01    RY0TRQ8  ...  759.7  83.0  5.0\n",
              "4  2016-01-01 00:00:00 x 8LOVJZ3 2016-01-01    8LOVJZ3  ...  759.7  83.0  5.0\n",
              "\n",
              "[5 rows x 27 columns]"
            ]
          },
          "metadata": {
            "tags": []
          },
          "execution_count": 14
        }
      ]
    },
    {
      "cell_type": "code",
      "metadata": {
        "id": "FG4wCVVUa1Bc",
        "colab_type": "code",
        "colab": {
          "base_uri": "https://localhost:8080/",
          "height": 89
        },
        "outputId": "9c485cd9-93e0-4729-bcc4-4bff64e5f403"
      },
      "source": [
        "train[\"just_date\"].unique()"
      ],
      "execution_count": 15,
      "outputs": [
        {
          "output_type": "execute_result",
          "data": {
            "text/plain": [
              "array([datetime.date(2016, 1, 1), datetime.date(2016, 1, 2),\n",
              "       datetime.date(2016, 1, 3), ..., datetime.date(2018, 12, 29),\n",
              "       datetime.date(2018, 12, 30), datetime.date(2018, 12, 31)],\n",
              "      dtype=object)"
            ]
          },
          "metadata": {
            "tags": []
          },
          "execution_count": 15
        }
      ]
    },
    {
      "cell_type": "code",
      "metadata": {
        "id": "_0hr1pRwYZDE",
        "colab_type": "code",
        "outputId": "7c3b25cc-efd0-4e8e-a996-0efa74e1dbd1",
        "colab": {
          "base_uri": "https://localhost:8080/",
          "height": 35
        }
      },
      "source": [
        "train.shape"
      ],
      "execution_count": 16,
      "outputs": [
        {
          "output_type": "execute_result",
          "data": {
            "text/plain": [
              "(14740768, 27)"
            ]
          },
          "metadata": {
            "tags": []
          },
          "execution_count": 16
        }
      ]
    },
    {
      "cell_type": "code",
      "metadata": {
        "id": "C-x8dvQYcJ3_",
        "colab_type": "code",
        "colab": {
          "base_uri": "https://localhost:8080/",
          "height": 107
        },
        "outputId": "d3184896-fc8a-4ed5-b064-f4327cee118c"
      },
      "source": [
        "train.columns"
      ],
      "execution_count": 17,
      "outputs": [
        {
          "output_type": "execute_result",
          "data": {
            "text/plain": [
              "Index(['datetime x segment_id', 'datetime', 'segment_id', 'y', 'just_date',\n",
              "       'month', 'day', 'min', 'ROADNO', 'CLASS', 'REGION', 'WIDTH', 'LANES',\n",
              "       'SURFTYPE', 'PAVETYPE', 'CONDITION', 'length_1', 'geometry',\n",
              "       'longitude', 'latitude', 'dt', 'T', 'Td', 'P0', 'P', 'U', 'Ff'],\n",
              "      dtype='object')"
            ]
          },
          "metadata": {
            "tags": []
          },
          "execution_count": 17
        }
      ]
    },
    {
      "cell_type": "markdown",
      "metadata": {
        "id": "jkYHiyW6Yqvs",
        "colab_type": "text"
      },
      "source": [
        "# Special Preprocessing"
      ]
    },
    {
      "cell_type": "code",
      "metadata": {
        "id": "aDpP93uNYxX6",
        "colab_type": "code",
        "colab": {}
      },
      "source": [
        "train = train.drop(\"geometry\", axis=1)"
      ],
      "execution_count": 0,
      "outputs": []
    },
    {
      "cell_type": "code",
      "metadata": {
        "id": "ptHDfyfzly-e",
        "colab_type": "code",
        "colab": {
          "base_uri": "https://localhost:8080/",
          "height": 35
        },
        "outputId": "3cb35ff2-a796-492a-f1ac-fcb06713cc31"
      },
      "source": [
        "train[\"ROADNO\"].iloc[0]"
      ],
      "execution_count": 30,
      "outputs": [
        {
          "output_type": "execute_result",
          "data": {
            "text/plain": [
              "'N1'"
            ]
          },
          "metadata": {
            "tags": []
          },
          "execution_count": 30
        }
      ]
    },
    {
      "cell_type": "code",
      "metadata": {
        "id": "C_NDZge-Y7cJ",
        "colab_type": "code",
        "colab": {}
      },
      "source": [
        " \n",
        "def smudge(data):\n",
        "  return data.groupby(['segment_id',\"just_date\"],as_index=False).agg({\n",
        "        \"y\":\"max\",\n",
        "        \"month\":\"first\",\n",
        "        \"day\":\"first\",\n",
        "        \"ROADNO\":\"first\",\n",
        "         'CLASS':\"first\", 'REGION':\"first\", 'WIDTH':\"first\", 'LANES':\"first\",\n",
        "       'SURFTYPE':\"first\", 'PAVETYPE':\"first\", 'CONDITION':\"first\",\n",
        "       'length_1':\"first\",  \n",
        "       'longitude':\"first\", 'latitude':\"first\", \n",
        "       'T':\"mean\", 'Td':\"mean\", 'P0':\"mean\", 'P':\"mean\", 'U':\"mean\", 'Ff':\"mean\"\n",
        "\n",
        "\n",
        "  }) \n",
        "   "
      ],
      "execution_count": 0,
      "outputs": []
    },
    {
      "cell_type": "code",
      "metadata": {
        "id": "88n0OGtIemB-",
        "colab_type": "code",
        "colab": {
          "base_uri": "https://localhost:8080/",
          "height": 35
        },
        "outputId": "732fd86c-3e08-4300-baf9-e487a463ebbd"
      },
      "source": [
        "t = smudge(train)\n",
        "t.head()\n",
        "t.shape"
      ],
      "execution_count": 36,
      "outputs": [
        {
          "output_type": "execute_result",
          "data": {
            "text/plain": [
              "(563040, 22)"
            ]
          },
          "metadata": {
            "tags": []
          },
          "execution_count": 36
        }
      ]
    },
    {
      "cell_type": "markdown",
      "metadata": {
        "id": "nmhNhZ0yYwb5",
        "colab_type": "text"
      },
      "source": [
        ""
      ]
    },
    {
      "cell_type": "markdown",
      "metadata": {
        "id": "pOnpJdsORfOk",
        "colab_type": "text"
      },
      "source": [
        "# Create an equivalent dataset for submission"
      ]
    },
    {
      "cell_type": "code",
      "metadata": {
        "id": "Ep9VSJS3VZt4",
        "colab_type": "code",
        "outputId": "60852e45-1311-4f73-a48d-50007f5ba95d",
        "colab": {
          "base_uri": "https://localhost:8080/",
          "height": 204
        }
      },
      "source": [
        "# Make the dataframe - dates based on sample submission file\n",
        "dts = pd.date_range('2019-01-01 01:00:00',\n",
        "                    '2019-03-31 23:00:00',\n",
        "                    freq=\"1h\")\n",
        "tr = pd.DataFrame({'datetime':dts})\n",
        "\n",
        "for sid in sids:\n",
        "    tr[str(sid)] = 0\n",
        "    \n",
        "ss = pd.DataFrame({\n",
        "    'datetime x segment_id':np.concatenate([[str(x) + \" x \" + str(c)  \n",
        "                                            for x in tr['datetime']for c in sids]]),\n",
        "    'datetime':np.concatenate([[str(x) for x in tr['datetime']for c in sids]]),\n",
        "    'segment_id':np.concatenate([[str(c) for x in tr['datetime']for c in sids]])\n",
        "})\n",
        "ss.head()"
      ],
      "execution_count": 0,
      "outputs": [
        {
          "output_type": "execute_result",
          "data": {
            "text/html": [
              "<div>\n",
              "<style scoped>\n",
              "    .dataframe tbody tr th:only-of-type {\n",
              "        vertical-align: middle;\n",
              "    }\n",
              "\n",
              "    .dataframe tbody tr th {\n",
              "        vertical-align: top;\n",
              "    }\n",
              "\n",
              "    .dataframe thead th {\n",
              "        text-align: right;\n",
              "    }\n",
              "</style>\n",
              "<table border=\"1\" class=\"dataframe\">\n",
              "  <thead>\n",
              "    <tr style=\"text-align: right;\">\n",
              "      <th></th>\n",
              "      <th>datetime x segment_id</th>\n",
              "      <th>datetime</th>\n",
              "      <th>segment_id</th>\n",
              "    </tr>\n",
              "  </thead>\n",
              "  <tbody>\n",
              "    <tr>\n",
              "      <th>0</th>\n",
              "      <td>2019-01-01 01:00:00 x S0B3CGQ</td>\n",
              "      <td>2019-01-01 01:00:00</td>\n",
              "      <td>S0B3CGQ</td>\n",
              "    </tr>\n",
              "    <tr>\n",
              "      <th>1</th>\n",
              "      <td>2019-01-01 01:00:00 x RYJYAPI</td>\n",
              "      <td>2019-01-01 01:00:00</td>\n",
              "      <td>RYJYAPI</td>\n",
              "    </tr>\n",
              "    <tr>\n",
              "      <th>2</th>\n",
              "      <td>2019-01-01 01:00:00 x U3KP57C</td>\n",
              "      <td>2019-01-01 01:00:00</td>\n",
              "      <td>U3KP57C</td>\n",
              "    </tr>\n",
              "    <tr>\n",
              "      <th>3</th>\n",
              "      <td>2019-01-01 01:00:00 x RY0TRQ8</td>\n",
              "      <td>2019-01-01 01:00:00</td>\n",
              "      <td>RY0TRQ8</td>\n",
              "    </tr>\n",
              "    <tr>\n",
              "      <th>4</th>\n",
              "      <td>2019-01-01 01:00:00 x 8LOVJZ3</td>\n",
              "      <td>2019-01-01 01:00:00</td>\n",
              "      <td>8LOVJZ3</td>\n",
              "    </tr>\n",
              "  </tbody>\n",
              "</table>\n",
              "</div>"
            ],
            "text/plain": [
              "           datetime x segment_id             datetime segment_id\n",
              "0  2019-01-01 01:00:00 x S0B3CGQ  2019-01-01 01:00:00    S0B3CGQ\n",
              "1  2019-01-01 01:00:00 x RYJYAPI  2019-01-01 01:00:00    RYJYAPI\n",
              "2  2019-01-01 01:00:00 x U3KP57C  2019-01-01 01:00:00    U3KP57C\n",
              "3  2019-01-01 01:00:00 x RY0TRQ8  2019-01-01 01:00:00    RY0TRQ8\n",
              "4  2019-01-01 01:00:00 x 8LOVJZ3  2019-01-01 01:00:00    8LOVJZ3"
            ]
          },
          "metadata": {
            "tags": []
          },
          "execution_count": 16
        }
      ]
    },
    {
      "cell_type": "code",
      "metadata": {
        "id": "5mR0yidXVWDn",
        "colab_type": "code",
        "outputId": "1bb24300-7521-4fe7-fc7b-46b1355ef8dc",
        "colab": {
          "base_uri": "https://localhost:8080/",
          "height": 581
        }
      },
      "source": [
        "# Add the extra features\n",
        "ss['datetime'] = pd.to_datetime(ss['datetime'])\n",
        "ss['day'] = ss['datetime'].dt.weekday_name\n",
        "ss['month'] = ss['datetime'].dt.month\n",
        "ss['min'] = ss['datetime'].dt.hour*60+ss['datetime'].dt.minute\n",
        "ss = pd.merge(ss, road_segments, on='segment_id', how='left')\n",
        "ss = pd.merge(ss, locations, left_on='segment_id', right_on='road_segment_id', how='left')\n",
        "ss = pd.merge(ss, w[w_cols], left_on='datetime', right_on='dt', how='left')\n",
        "ss['prediction'] = 0\n",
        "ss.head()"
      ],
      "execution_count": 0,
      "outputs": [
        {
          "output_type": "execute_result",
          "data": {
            "text/html": [
              "<div>\n",
              "<style scoped>\n",
              "    .dataframe tbody tr th:only-of-type {\n",
              "        vertical-align: middle;\n",
              "    }\n",
              "\n",
              "    .dataframe tbody tr th {\n",
              "        vertical-align: top;\n",
              "    }\n",
              "\n",
              "    .dataframe thead th {\n",
              "        text-align: right;\n",
              "    }\n",
              "</style>\n",
              "<table border=\"1\" class=\"dataframe\">\n",
              "  <thead>\n",
              "    <tr style=\"text-align: right;\">\n",
              "      <th></th>\n",
              "      <th>datetime x segment_id</th>\n",
              "      <th>datetime</th>\n",
              "      <th>segment_id</th>\n",
              "      <th>day</th>\n",
              "      <th>month</th>\n",
              "      <th>min</th>\n",
              "      <th>ROADNO_x</th>\n",
              "      <th>CLASS_x</th>\n",
              "      <th>REGION_x</th>\n",
              "      <th>WIDTH_x</th>\n",
              "      <th>LANES_x</th>\n",
              "      <th>SURFTYPE_x</th>\n",
              "      <th>PAVETYPE_x</th>\n",
              "      <th>CONDITION_x</th>\n",
              "      <th>length_1_x</th>\n",
              "      <th>geometry_x</th>\n",
              "      <th>longitude_x</th>\n",
              "      <th>latitude_x</th>\n",
              "      <th>dt_x</th>\n",
              "      <th>T_x</th>\n",
              "      <th>P0_x</th>\n",
              "      <th>P_x</th>\n",
              "      <th>U_x</th>\n",
              "      <th>Ff_x</th>\n",
              "      <th>prediction</th>\n",
              "      <th>ROADNO_y</th>\n",
              "      <th>CLASS_y</th>\n",
              "      <th>REGION_y</th>\n",
              "      <th>WIDTH_y</th>\n",
              "      <th>LANES_y</th>\n",
              "      <th>SURFTYPE_y</th>\n",
              "      <th>PAVETYPE_y</th>\n",
              "      <th>CONDITION_y</th>\n",
              "      <th>length_1_y</th>\n",
              "      <th>geometry_y</th>\n",
              "      <th>longitude_y</th>\n",
              "      <th>latitude_y</th>\n",
              "      <th>dt_y</th>\n",
              "      <th>T_y</th>\n",
              "      <th>P0_y</th>\n",
              "      <th>P_y</th>\n",
              "      <th>U_y</th>\n",
              "      <th>Ff_y</th>\n",
              "    </tr>\n",
              "  </thead>\n",
              "  <tbody>\n",
              "    <tr>\n",
              "      <th>0</th>\n",
              "      <td>2019-01-01 01:00:00 x S0B3CGQ</td>\n",
              "      <td>2019-01-01 01:00:00</td>\n",
              "      <td>S0B3CGQ</td>\n",
              "      <td>Tuesday</td>\n",
              "      <td>1</td>\n",
              "      <td>60</td>\n",
              "      <td>N1</td>\n",
              "      <td>Primary</td>\n",
              "      <td>Western Cape</td>\n",
              "      <td>0.0</td>\n",
              "      <td>0</td>\n",
              "      <td>Paved</td>\n",
              "      <td>Unknown</td>\n",
              "      <td>Unknown</td>\n",
              "      <td>521.765</td>\n",
              "      <td>LINESTRING (18.54354 -33.89011, 18.54268 -33.8...</td>\n",
              "      <td>18.541422</td>\n",
              "      <td>-33.888613</td>\n",
              "      <td>2019-01-01 01:00:00</td>\n",
              "      <td>19.0</td>\n",
              "      <td>756.8</td>\n",
              "      <td>760.5</td>\n",
              "      <td>88.0</td>\n",
              "      <td>5.0</td>\n",
              "      <td>0</td>\n",
              "      <td>N1</td>\n",
              "      <td>Primary</td>\n",
              "      <td>Western Cape</td>\n",
              "      <td>0.0</td>\n",
              "      <td>0</td>\n",
              "      <td>Paved</td>\n",
              "      <td>Unknown</td>\n",
              "      <td>Unknown</td>\n",
              "      <td>521.765</td>\n",
              "      <td>LINESTRING (18.54354 -33.89011, 18.54268 -33.8...</td>\n",
              "      <td>18.541422</td>\n",
              "      <td>-33.888613</td>\n",
              "      <td>2019-01-01 01:00:00</td>\n",
              "      <td>19.0</td>\n",
              "      <td>756.8</td>\n",
              "      <td>760.5</td>\n",
              "      <td>88.0</td>\n",
              "      <td>5.0</td>\n",
              "    </tr>\n",
              "    <tr>\n",
              "      <th>1</th>\n",
              "      <td>2019-01-01 01:00:00 x RYJYAPI</td>\n",
              "      <td>2019-01-01 01:00:00</td>\n",
              "      <td>RYJYAPI</td>\n",
              "      <td>Tuesday</td>\n",
              "      <td>1</td>\n",
              "      <td>60</td>\n",
              "      <td>N2</td>\n",
              "      <td>Primary</td>\n",
              "      <td>Western Cape</td>\n",
              "      <td>12.8</td>\n",
              "      <td>2</td>\n",
              "      <td>Paved</td>\n",
              "      <td>FLEX</td>\n",
              "      <td>Very Good</td>\n",
              "      <td>521.945</td>\n",
              "      <td>LINESTRING (18.93214 -34.13857, 18.93208 -34.1...</td>\n",
              "      <td>18.931088</td>\n",
              "      <td>-34.139930</td>\n",
              "      <td>2019-01-01 01:00:00</td>\n",
              "      <td>19.0</td>\n",
              "      <td>756.8</td>\n",
              "      <td>760.5</td>\n",
              "      <td>88.0</td>\n",
              "      <td>5.0</td>\n",
              "      <td>0</td>\n",
              "      <td>N2</td>\n",
              "      <td>Primary</td>\n",
              "      <td>Western Cape</td>\n",
              "      <td>12.8</td>\n",
              "      <td>2</td>\n",
              "      <td>Paved</td>\n",
              "      <td>FLEX</td>\n",
              "      <td>Very Good</td>\n",
              "      <td>521.945</td>\n",
              "      <td>LINESTRING (18.93214 -34.13857, 18.93208 -34.1...</td>\n",
              "      <td>18.931088</td>\n",
              "      <td>-34.139930</td>\n",
              "      <td>2019-01-01 01:00:00</td>\n",
              "      <td>19.0</td>\n",
              "      <td>756.8</td>\n",
              "      <td>760.5</td>\n",
              "      <td>88.0</td>\n",
              "      <td>5.0</td>\n",
              "    </tr>\n",
              "    <tr>\n",
              "      <th>2</th>\n",
              "      <td>2019-01-01 01:00:00 x U3KP57C</td>\n",
              "      <td>2019-01-01 01:00:00</td>\n",
              "      <td>U3KP57C</td>\n",
              "      <td>Tuesday</td>\n",
              "      <td>1</td>\n",
              "      <td>60</td>\n",
              "      <td>N2</td>\n",
              "      <td>Primary</td>\n",
              "      <td>Western Cape</td>\n",
              "      <td>0.0</td>\n",
              "      <td>0</td>\n",
              "      <td>Paved</td>\n",
              "      <td>Unknown</td>\n",
              "      <td>Unknown</td>\n",
              "      <td>452.679</td>\n",
              "      <td>LINESTRING (18.55332 -33.95934, 18.54963 -33.9...</td>\n",
              "      <td>18.550771</td>\n",
              "      <td>-33.958279</td>\n",
              "      <td>2019-01-01 01:00:00</td>\n",
              "      <td>19.0</td>\n",
              "      <td>756.8</td>\n",
              "      <td>760.5</td>\n",
              "      <td>88.0</td>\n",
              "      <td>5.0</td>\n",
              "      <td>0</td>\n",
              "      <td>N2</td>\n",
              "      <td>Primary</td>\n",
              "      <td>Western Cape</td>\n",
              "      <td>0.0</td>\n",
              "      <td>0</td>\n",
              "      <td>Paved</td>\n",
              "      <td>Unknown</td>\n",
              "      <td>Unknown</td>\n",
              "      <td>452.679</td>\n",
              "      <td>LINESTRING (18.55332 -33.95934, 18.54963 -33.9...</td>\n",
              "      <td>18.550771</td>\n",
              "      <td>-33.958279</td>\n",
              "      <td>2019-01-01 01:00:00</td>\n",
              "      <td>19.0</td>\n",
              "      <td>756.8</td>\n",
              "      <td>760.5</td>\n",
              "      <td>88.0</td>\n",
              "      <td>5.0</td>\n",
              "    </tr>\n",
              "    <tr>\n",
              "      <th>3</th>\n",
              "      <td>2019-01-01 01:00:00 x RY0TRQ8</td>\n",
              "      <td>2019-01-01 01:00:00</td>\n",
              "      <td>RY0TRQ8</td>\n",
              "      <td>Tuesday</td>\n",
              "      <td>1</td>\n",
              "      <td>60</td>\n",
              "      <td>R300</td>\n",
              "      <td>Primary</td>\n",
              "      <td>Western Cape</td>\n",
              "      <td>20.2</td>\n",
              "      <td>2</td>\n",
              "      <td>Paved</td>\n",
              "      <td>FLEX</td>\n",
              "      <td>Fair</td>\n",
              "      <td>493.974</td>\n",
              "      <td>LINESTRING (18.67690 -33.89936, 18.67691 -33.8...</td>\n",
              "      <td>18.677475</td>\n",
              "      <td>-33.896611</td>\n",
              "      <td>2019-01-01 01:00:00</td>\n",
              "      <td>19.0</td>\n",
              "      <td>756.8</td>\n",
              "      <td>760.5</td>\n",
              "      <td>88.0</td>\n",
              "      <td>5.0</td>\n",
              "      <td>0</td>\n",
              "      <td>R300</td>\n",
              "      <td>Primary</td>\n",
              "      <td>Western Cape</td>\n",
              "      <td>20.2</td>\n",
              "      <td>2</td>\n",
              "      <td>Paved</td>\n",
              "      <td>FLEX</td>\n",
              "      <td>Fair</td>\n",
              "      <td>493.974</td>\n",
              "      <td>LINESTRING (18.67690 -33.89936, 18.67691 -33.8...</td>\n",
              "      <td>18.677475</td>\n",
              "      <td>-33.896611</td>\n",
              "      <td>2019-01-01 01:00:00</td>\n",
              "      <td>19.0</td>\n",
              "      <td>756.8</td>\n",
              "      <td>760.5</td>\n",
              "      <td>88.0</td>\n",
              "      <td>5.0</td>\n",
              "    </tr>\n",
              "    <tr>\n",
              "      <th>4</th>\n",
              "      <td>2019-01-01 01:00:00 x 8LOVJZ3</td>\n",
              "      <td>2019-01-01 01:00:00</td>\n",
              "      <td>8LOVJZ3</td>\n",
              "      <td>Tuesday</td>\n",
              "      <td>1</td>\n",
              "      <td>60</td>\n",
              "      <td>N2</td>\n",
              "      <td>Primary</td>\n",
              "      <td>Western Cape</td>\n",
              "      <td>20.2</td>\n",
              "      <td>2</td>\n",
              "      <td>Paved</td>\n",
              "      <td>FLEX</td>\n",
              "      <td>Very Good</td>\n",
              "      <td>569.263</td>\n",
              "      <td>LINESTRING (18.83297 -34.08474, 18.83303 -34.0...</td>\n",
              "      <td>18.836121</td>\n",
              "      <td>-34.086109</td>\n",
              "      <td>2019-01-01 01:00:00</td>\n",
              "      <td>19.0</td>\n",
              "      <td>756.8</td>\n",
              "      <td>760.5</td>\n",
              "      <td>88.0</td>\n",
              "      <td>5.0</td>\n",
              "      <td>0</td>\n",
              "      <td>N2</td>\n",
              "      <td>Primary</td>\n",
              "      <td>Western Cape</td>\n",
              "      <td>20.2</td>\n",
              "      <td>2</td>\n",
              "      <td>Paved</td>\n",
              "      <td>FLEX</td>\n",
              "      <td>Very Good</td>\n",
              "      <td>569.263</td>\n",
              "      <td>LINESTRING (18.83297 -34.08474, 18.83303 -34.0...</td>\n",
              "      <td>18.836121</td>\n",
              "      <td>-34.086109</td>\n",
              "      <td>2019-01-01 01:00:00</td>\n",
              "      <td>19.0</td>\n",
              "      <td>756.8</td>\n",
              "      <td>760.5</td>\n",
              "      <td>88.0</td>\n",
              "      <td>5.0</td>\n",
              "    </tr>\n",
              "  </tbody>\n",
              "</table>\n",
              "</div>"
            ],
            "text/plain": [
              "           datetime x segment_id            datetime  ...   U_y Ff_y\n",
              "0  2019-01-01 01:00:00 x S0B3CGQ 2019-01-01 01:00:00  ...  88.0  5.0\n",
              "1  2019-01-01 01:00:00 x RYJYAPI 2019-01-01 01:00:00  ...  88.0  5.0\n",
              "2  2019-01-01 01:00:00 x U3KP57C 2019-01-01 01:00:00  ...  88.0  5.0\n",
              "3  2019-01-01 01:00:00 x RY0TRQ8 2019-01-01 01:00:00  ...  88.0  5.0\n",
              "4  2019-01-01 01:00:00 x 8LOVJZ3 2019-01-01 01:00:00  ...  88.0  5.0\n",
              "\n",
              "[5 rows x 43 columns]"
            ]
          },
          "metadata": {
            "tags": []
          },
          "execution_count": 31
        }
      ]
    },
    {
      "cell_type": "code",
      "metadata": {
        "id": "Kd5RQvBVYg19",
        "colab_type": "code",
        "outputId": "8d89036f-5411-41c8-ee4b-cd22d5de7ef9",
        "colab": {
          "base_uri": "https://localhost:8080/",
          "height": 172
        }
      },
      "source": [
        "ss.shape"
      ],
      "execution_count": 0,
      "outputs": [
        {
          "output_type": "error",
          "ename": "NameError",
          "evalue": "ignored",
          "traceback": [
            "\u001b[0;31m---------------------------------------------------------------------------\u001b[0m",
            "\u001b[0;31mNameError\u001b[0m                                 Traceback (most recent call last)",
            "\u001b[0;32m<ipython-input-2-e068d7f19daa>\u001b[0m in \u001b[0;36m<module>\u001b[0;34m()\u001b[0m\n\u001b[0;32m----> 1\u001b[0;31m \u001b[0mss\u001b[0m\u001b[0;34m.\u001b[0m\u001b[0mshape\u001b[0m\u001b[0;34m\u001b[0m\u001b[0;34m\u001b[0m\u001b[0m\n\u001b[0m",
            "\u001b[0;31mNameError\u001b[0m: name 'ss' is not defined"
          ]
        }
      ]
    },
    {
      "cell_type": "markdown",
      "metadata": {
        "id": "ygeHgFtHRmMz",
        "colab_type": "text"
      },
      "source": [
        "# Listing the columns we've created and will use for modelling"
      ]
    },
    {
      "cell_type": "code",
      "metadata": {
        "id": "6uI4v8p6-bWk",
        "colab_type": "code",
        "colab": {}
      },
      "source": [
        "x_cols = ['day', 'segment_id', 'min', 'longitude', 'latitude', 'ROADNO', 'length_1',  'LANES', 'CONDITION', 'month', 'T', 'P0', 'P', 'U', 'Ff']\n",
        "cat_cols = ['day', 'month', 'segment_id', 'ROADNO',  'LANES', 'CONDITION']"
      ],
      "execution_count": 0,
      "outputs": []
    },
    {
      "cell_type": "markdown",
      "metadata": {
        "id": "cFUrQFZbWC7J",
        "colab_type": "text"
      },
      "source": [
        "# Training XGBOOST"
      ]
    },
    {
      "cell_type": "code",
      "metadata": {
        "id": "0gAxaYIUWQ2V",
        "colab_type": "code",
        "outputId": "5c241976-5c28-4ae3-9513-4ce207461e69",
        "colab": {
          "base_uri": "https://localhost:8080/",
          "height": 71
        }
      },
      "source": [
        "!pip install xgboost"
      ],
      "execution_count": 0,
      "outputs": [
        {
          "output_type": "stream",
          "text": [
            "Requirement already satisfied: xgboost in /usr/local/lib/python3.6/dist-packages (0.90)\n",
            "Requirement already satisfied: numpy in /usr/local/lib/python3.6/dist-packages (from xgboost) (1.17.5)\n",
            "Requirement already satisfied: scipy in /usr/local/lib/python3.6/dist-packages (from xgboost) (1.4.1)\n"
          ],
          "name": "stdout"
        }
      ]
    },
    {
      "cell_type": "markdown",
      "metadata": {
        "id": "h8EADxxNSb8Z",
        "colab_type": "text"
      },
      "source": [
        "# Tuning threshold to maximise F1 score:"
      ]
    },
    {
      "cell_type": "code",
      "metadata": {
        "id": "nvmNyfg2WKHz",
        "colab_type": "code",
        "colab": {}
      },
      "source": [
        ""
      ],
      "execution_count": 0,
      "outputs": []
    },
    {
      "cell_type": "code",
      "metadata": {
        "id": "BCaURV-JT31j",
        "colab_type": "code",
        "outputId": "155d6b35-3611-4b2a-b148-d625a78df17c",
        "colab": {
          "base_uri": "https://localhost:8080/",
          "height": 153
        }
      },
      "source": [
        "test['p'] = predictions[:,1]\n",
        "for t in [0.01, 0.03, 0.035, 0.04, 0.045, 0.05, 0.1, 0.3]:\n",
        "  test['pt'] = (test['p']>t).astype(int)\n",
        "  print('Threshold: ', t, 'F1:', f1_score(test['y'], test['pt']))"
      ],
      "execution_count": 0,
      "outputs": [
        {
          "output_type": "stream",
          "text": [
            "Threshold:  0.01 F1: 0.06258443510071494\n",
            "Threshold:  0.03 F1: 0.08219036815509952\n",
            "Threshold:  0.035 F1: 0.08226900378754515\n",
            "Threshold:  0.04 F1: 0.0808614520282246\n",
            "Threshold:  0.045 F1: 0.08091782851498688\n",
            "Threshold:  0.05 F1: 0.08031522468142187\n",
            "Threshold:  0.1 F1: 0.06238721319927816\n",
            "Threshold:  0.3 F1: 0.02692212403997027\n"
          ],
          "name": "stdout"
        }
      ]
    },
    {
      "cell_type": "markdown",
      "metadata": {
        "id": "emU8by2zShN-",
        "colab_type": "text"
      },
      "source": [
        "Refining more"
      ]
    },
    {
      "cell_type": "code",
      "metadata": {
        "id": "utk8ko6tXwnH",
        "colab_type": "code",
        "outputId": "54feea68-3edf-417c-fe63-f2b313551a34",
        "colab": {
          "base_uri": "https://localhost:8080/",
          "height": 153
        }
      },
      "source": [
        "for t in [0.01, 0.025, 0.027, 0.029, 0.031, 0.033, 0.035, 0.037]:\n",
        "  test['pt'] = (test['p']>t).astype(int)\n",
        "  print(t, f1_score(test['y'], test['pt']))"
      ],
      "execution_count": 0,
      "outputs": [
        {
          "output_type": "stream",
          "text": [
            "0.01 0.06258443510071494\n",
            "0.025 0.0803704175693471\n",
            "0.027 0.08150484761330427\n",
            "0.029 0.08147240491135062\n",
            "0.031 0.08248680476354668\n",
            "0.033 0.08166008569268252\n",
            "0.035 0.08226900378754515\n",
            "0.037 0.08255101726738281\n"
          ],
          "name": "stdout"
        }
      ]
    },
    {
      "cell_type": "markdown",
      "metadata": {
        "id": "JFgeZcsPSvzN",
        "colab_type": "text"
      },
      "source": [
        "# Tuning, submission\n",
        "\n",
        "So you can see we're getting an F1 score aroud 0.082 on our test set. For some reason I tend to score higher on Zindi! To turn this into a submission, you can use the submission dataset (ss) as the test set for the learner, and then threshold the predicted probabilities based on the top value found above and use that as you submission. Before you do that, I sugest you play around with training for longer, adding different features, tweaking things further..... go crazy :) If you have questions, feel free to get hold of me or, better, post them in the discussions on Zindi. Good luck."
      ]
    },
    {
      "cell_type": "code",
      "metadata": {
        "id": "X9VvGgYpYTp4",
        "colab_type": "code",
        "colab": {}
      },
      "source": [
        ""
      ],
      "execution_count": 0,
      "outputs": []
    }
  ]
}